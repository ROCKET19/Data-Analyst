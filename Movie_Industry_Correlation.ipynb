{
  "nbformat": 4,
  "nbformat_minor": 0,
  "metadata": {
    "colab": {
      "name": "Movie Industry Correlation.ipynb",
      "provenance": [],
      "collapsed_sections": [],
      "mount_file_id": "1ZlYphVU-UYCotpFRnzySDPG2TLYv_460",
      "authorship_tag": "ABX9TyPllH7ok5Yy3mCggREqt9eF"
    },
    "kernelspec": {
      "name": "python3",
      "display_name": "Python 3"
    },
    "language_info": {
      "name": "python"
    }
  },
  "cells": [
    {
      "cell_type": "markdown",
      "metadata": {
        "id": "oe7ODLl14Uqa"
      },
      "source": [
        "# Importing all the Libraries"
      ]
    },
    {
      "cell_type": "code",
      "metadata": {
        "id": "AOTcbYJ84QVI"
      },
      "source": [
        "import pandas as pd\n",
        "import seaborn as sns\n",
        "import numpy as np\n",
        "\n",
        "import matplotlib\n",
        "import matplotlib.pyplot as plt\n",
        "plt.style.use('ggplot')\n",
        "from matplotlib.pyplot import figure\n",
        "\n",
        "%matplotlib inline\n",
        "matplotlib.rcParams['figure.figsize'] = (12, 8) # Adjust the configuration of the plots"
      ],
      "execution_count": 38,
      "outputs": []
    },
    {
      "cell_type": "markdown",
      "metadata": {
        "id": "20vQa-do5LJu"
      },
      "source": [
        "# Read the data"
      ]
    },
    {
      "cell_type": "code",
      "metadata": {
        "id": "x1O-SzAi44bf"
      },
      "source": [
        "df = pd.read_csv('/content/drive/MyDrive/Colab Notebooks/Movie Industry/movies.csv', encoding='latin-1')"
      ],
      "execution_count": 39,
      "outputs": []
    },
    {
      "cell_type": "code",
      "metadata": {
        "colab": {
          "base_uri": "https://localhost:8080/",
          "height": 773
        },
        "id": "jEhckMVl6N63",
        "outputId": "c5cc7bae-7bef-4e39-b047-aeabfdb108fd"
      },
      "source": [
        "df"
      ],
      "execution_count": 40,
      "outputs": [
        {
          "output_type": "execute_result",
          "data": {
            "text/html": [
              "<div>\n",
              "<style scoped>\n",
              "    .dataframe tbody tr th:only-of-type {\n",
              "        vertical-align: middle;\n",
              "    }\n",
              "\n",
              "    .dataframe tbody tr th {\n",
              "        vertical-align: top;\n",
              "    }\n",
              "\n",
              "    .dataframe thead th {\n",
              "        text-align: right;\n",
              "    }\n",
              "</style>\n",
              "<table border=\"1\" class=\"dataframe\">\n",
              "  <thead>\n",
              "    <tr style=\"text-align: right;\">\n",
              "      <th></th>\n",
              "      <th>budget</th>\n",
              "      <th>company</th>\n",
              "      <th>country</th>\n",
              "      <th>director</th>\n",
              "      <th>genre</th>\n",
              "      <th>gross</th>\n",
              "      <th>name</th>\n",
              "      <th>rating</th>\n",
              "      <th>released</th>\n",
              "      <th>runtime</th>\n",
              "      <th>score</th>\n",
              "      <th>star</th>\n",
              "      <th>votes</th>\n",
              "      <th>writer</th>\n",
              "      <th>year</th>\n",
              "    </tr>\n",
              "  </thead>\n",
              "  <tbody>\n",
              "    <tr>\n",
              "      <th>0</th>\n",
              "      <td>8000000.0</td>\n",
              "      <td>Columbia Pictures Corporation</td>\n",
              "      <td>USA</td>\n",
              "      <td>Rob Reiner</td>\n",
              "      <td>Adventure</td>\n",
              "      <td>52287414.0</td>\n",
              "      <td>Stand by Me</td>\n",
              "      <td>R</td>\n",
              "      <td>1986-08-22</td>\n",
              "      <td>89</td>\n",
              "      <td>8.1</td>\n",
              "      <td>Wil Wheaton</td>\n",
              "      <td>299174</td>\n",
              "      <td>Stephen King</td>\n",
              "      <td>1986</td>\n",
              "    </tr>\n",
              "    <tr>\n",
              "      <th>1</th>\n",
              "      <td>6000000.0</td>\n",
              "      <td>Paramount Pictures</td>\n",
              "      <td>USA</td>\n",
              "      <td>John Hughes</td>\n",
              "      <td>Comedy</td>\n",
              "      <td>70136369.0</td>\n",
              "      <td>Ferris Bueller's Day Off</td>\n",
              "      <td>PG-13</td>\n",
              "      <td>1986-06-11</td>\n",
              "      <td>103</td>\n",
              "      <td>7.8</td>\n",
              "      <td>Matthew Broderick</td>\n",
              "      <td>264740</td>\n",
              "      <td>John Hughes</td>\n",
              "      <td>1986</td>\n",
              "    </tr>\n",
              "    <tr>\n",
              "      <th>2</th>\n",
              "      <td>15000000.0</td>\n",
              "      <td>Paramount Pictures</td>\n",
              "      <td>USA</td>\n",
              "      <td>Tony Scott</td>\n",
              "      <td>Action</td>\n",
              "      <td>179800601.0</td>\n",
              "      <td>Top Gun</td>\n",
              "      <td>PG</td>\n",
              "      <td>1986-05-16</td>\n",
              "      <td>110</td>\n",
              "      <td>6.9</td>\n",
              "      <td>Tom Cruise</td>\n",
              "      <td>236909</td>\n",
              "      <td>Jim Cash</td>\n",
              "      <td>1986</td>\n",
              "    </tr>\n",
              "    <tr>\n",
              "      <th>3</th>\n",
              "      <td>18500000.0</td>\n",
              "      <td>Twentieth Century Fox Film Corporation</td>\n",
              "      <td>USA</td>\n",
              "      <td>James Cameron</td>\n",
              "      <td>Action</td>\n",
              "      <td>85160248.0</td>\n",
              "      <td>Aliens</td>\n",
              "      <td>R</td>\n",
              "      <td>1986-07-18</td>\n",
              "      <td>137</td>\n",
              "      <td>8.4</td>\n",
              "      <td>Sigourney Weaver</td>\n",
              "      <td>540152</td>\n",
              "      <td>James Cameron</td>\n",
              "      <td>1986</td>\n",
              "    </tr>\n",
              "    <tr>\n",
              "      <th>4</th>\n",
              "      <td>9000000.0</td>\n",
              "      <td>Walt Disney Pictures</td>\n",
              "      <td>USA</td>\n",
              "      <td>Randal Kleiser</td>\n",
              "      <td>Adventure</td>\n",
              "      <td>18564613.0</td>\n",
              "      <td>Flight of the Navigator</td>\n",
              "      <td>PG</td>\n",
              "      <td>1986-08-01</td>\n",
              "      <td>90</td>\n",
              "      <td>6.9</td>\n",
              "      <td>Joey Cramer</td>\n",
              "      <td>36636</td>\n",
              "      <td>Mark H. Baker</td>\n",
              "      <td>1986</td>\n",
              "    </tr>\n",
              "    <tr>\n",
              "      <th>...</th>\n",
              "      <td>...</td>\n",
              "      <td>...</td>\n",
              "      <td>...</td>\n",
              "      <td>...</td>\n",
              "      <td>...</td>\n",
              "      <td>...</td>\n",
              "      <td>...</td>\n",
              "      <td>...</td>\n",
              "      <td>...</td>\n",
              "      <td>...</td>\n",
              "      <td>...</td>\n",
              "      <td>...</td>\n",
              "      <td>...</td>\n",
              "      <td>...</td>\n",
              "      <td>...</td>\n",
              "    </tr>\n",
              "    <tr>\n",
              "      <th>6815</th>\n",
              "      <td>0.0</td>\n",
              "      <td>Fox Searchlight Pictures</td>\n",
              "      <td>UK</td>\n",
              "      <td>Mandie Fletcher</td>\n",
              "      <td>Comedy</td>\n",
              "      <td>4750497.0</td>\n",
              "      <td>Absolutely Fabulous: The Movie</td>\n",
              "      <td>R</td>\n",
              "      <td>2016-07-22</td>\n",
              "      <td>91</td>\n",
              "      <td>5.4</td>\n",
              "      <td>Jennifer Saunders</td>\n",
              "      <td>9161</td>\n",
              "      <td>Jennifer Saunders</td>\n",
              "      <td>2016</td>\n",
              "    </tr>\n",
              "    <tr>\n",
              "      <th>6816</th>\n",
              "      <td>0.0</td>\n",
              "      <td>Siempre Viva Productions</td>\n",
              "      <td>USA</td>\n",
              "      <td>Paul Duddridge</td>\n",
              "      <td>Drama</td>\n",
              "      <td>28368.0</td>\n",
              "      <td>Mothers and Daughters</td>\n",
              "      <td>PG-13</td>\n",
              "      <td>2016-05-06</td>\n",
              "      <td>90</td>\n",
              "      <td>4.9</td>\n",
              "      <td>Selma Blair</td>\n",
              "      <td>1959</td>\n",
              "      <td>Paige Cameron</td>\n",
              "      <td>2016</td>\n",
              "    </tr>\n",
              "    <tr>\n",
              "      <th>6817</th>\n",
              "      <td>3500000.0</td>\n",
              "      <td>Warner Bros. Animation</td>\n",
              "      <td>USA</td>\n",
              "      <td>Sam Liu</td>\n",
              "      <td>Animation</td>\n",
              "      <td>3775000.0</td>\n",
              "      <td>Batman: The Killing Joke</td>\n",
              "      <td>R</td>\n",
              "      <td>2016-07-25</td>\n",
              "      <td>76</td>\n",
              "      <td>6.5</td>\n",
              "      <td>Kevin Conroy</td>\n",
              "      <td>36333</td>\n",
              "      <td>Brian Azzarello</td>\n",
              "      <td>2016</td>\n",
              "    </tr>\n",
              "    <tr>\n",
              "      <th>6818</th>\n",
              "      <td>0.0</td>\n",
              "      <td>Borderline Presents</td>\n",
              "      <td>USA</td>\n",
              "      <td>Nicolas Pesce</td>\n",
              "      <td>Drama</td>\n",
              "      <td>25981.0</td>\n",
              "      <td>The Eyes of My Mother</td>\n",
              "      <td>R</td>\n",
              "      <td>2016-12-02</td>\n",
              "      <td>76</td>\n",
              "      <td>6.2</td>\n",
              "      <td>Kika Magalhães</td>\n",
              "      <td>6947</td>\n",
              "      <td>Nicolas Pesce</td>\n",
              "      <td>2016</td>\n",
              "    </tr>\n",
              "    <tr>\n",
              "      <th>6819</th>\n",
              "      <td>0.0</td>\n",
              "      <td>Les Productions du Trésor</td>\n",
              "      <td>France</td>\n",
              "      <td>Nicole Garcia</td>\n",
              "      <td>Drama</td>\n",
              "      <td>37757.0</td>\n",
              "      <td>From the Land of the Moon</td>\n",
              "      <td>R</td>\n",
              "      <td>2017-07-28</td>\n",
              "      <td>120</td>\n",
              "      <td>6.7</td>\n",
              "      <td>Marion Cotillard</td>\n",
              "      <td>2411</td>\n",
              "      <td>Milena Agus</td>\n",
              "      <td>2016</td>\n",
              "    </tr>\n",
              "  </tbody>\n",
              "</table>\n",
              "<p>6820 rows × 15 columns</p>\n",
              "</div>"
            ],
            "text/plain": [
              "          budget  ...  year\n",
              "0      8000000.0  ...  1986\n",
              "1      6000000.0  ...  1986\n",
              "2     15000000.0  ...  1986\n",
              "3     18500000.0  ...  1986\n",
              "4      9000000.0  ...  1986\n",
              "...          ...  ...   ...\n",
              "6815         0.0  ...  2016\n",
              "6816         0.0  ...  2016\n",
              "6817   3500000.0  ...  2016\n",
              "6818         0.0  ...  2016\n",
              "6819         0.0  ...  2016\n",
              "\n",
              "[6820 rows x 15 columns]"
            ]
          },
          "metadata": {
            "tags": []
          },
          "execution_count": 40
        }
      ]
    },
    {
      "cell_type": "markdown",
      "metadata": {
        "id": "vWntvq468DEv"
      },
      "source": [
        "# Check for missing Data"
      ]
    },
    {
      "cell_type": "code",
      "metadata": {
        "colab": {
          "base_uri": "https://localhost:8080/"
        },
        "id": "wAXdBh4j6gvp",
        "outputId": "f3e7c3c6-d2e8-4bac-b70b-faf03ff71c93"
      },
      "source": [
        "for col in df.columns:\n",
        "  percent_missing = np.mean(df[col].isnull())\n",
        "  print(col, \"  --> \", percent_missing)"
      ],
      "execution_count": 41,
      "outputs": [
        {
          "output_type": "stream",
          "text": [
            "budget   -->  0.0\n",
            "company   -->  0.0\n",
            "country   -->  0.0\n",
            "director   -->  0.0\n",
            "genre   -->  0.0\n",
            "gross   -->  0.0\n",
            "name   -->  0.0\n",
            "rating   -->  0.0\n",
            "released   -->  0.0\n",
            "runtime   -->  0.0\n",
            "score   -->  0.0\n",
            "star   -->  0.0\n",
            "votes   -->  0.0\n",
            "writer   -->  0.0\n",
            "year   -->  0.0\n"
          ],
          "name": "stdout"
        }
      ]
    },
    {
      "cell_type": "markdown",
      "metadata": {
        "id": "nVB1Tu549ZxD"
      },
      "source": [
        "Datatypes of each columns"
      ]
    },
    {
      "cell_type": "code",
      "metadata": {
        "colab": {
          "base_uri": "https://localhost:8080/"
        },
        "id": "mo7SIHwv9IPP",
        "outputId": "5f872200-fe57-44f3-d7cf-20af7dc8dc5d"
      },
      "source": [
        "df.dtypes"
      ],
      "execution_count": 42,
      "outputs": [
        {
          "output_type": "execute_result",
          "data": {
            "text/plain": [
              "budget      float64\n",
              "company      object\n",
              "country      object\n",
              "director     object\n",
              "genre        object\n",
              "gross       float64\n",
              "name         object\n",
              "rating       object\n",
              "released     object\n",
              "runtime       int64\n",
              "score       float64\n",
              "star         object\n",
              "votes         int64\n",
              "writer       object\n",
              "year          int64\n",
              "dtype: object"
            ]
          },
          "metadata": {
            "tags": []
          },
          "execution_count": 42
        }
      ]
    },
    {
      "cell_type": "markdown",
      "metadata": {
        "id": "Dj365lfd9nPZ"
      },
      "source": [
        "Change the budget and gross to integer"
      ]
    },
    {
      "cell_type": "code",
      "metadata": {
        "id": "7VrnyDaB9xKO"
      },
      "source": [
        "df['budget'] = df['budget'].astype('int64')\n",
        "\n",
        "df['gross'] = df['gross'].astype('int64') "
      ],
      "execution_count": 43,
      "outputs": []
    },
    {
      "cell_type": "code",
      "metadata": {
        "colab": {
          "base_uri": "https://localhost:8080/",
          "height": 371
        },
        "id": "8rvpGv7H9-4g",
        "outputId": "f5fb2473-59d0-4b90-82b1-e6f23883679e"
      },
      "source": [
        "df.head()"
      ],
      "execution_count": 44,
      "outputs": [
        {
          "output_type": "execute_result",
          "data": {
            "text/html": [
              "<div>\n",
              "<style scoped>\n",
              "    .dataframe tbody tr th:only-of-type {\n",
              "        vertical-align: middle;\n",
              "    }\n",
              "\n",
              "    .dataframe tbody tr th {\n",
              "        vertical-align: top;\n",
              "    }\n",
              "\n",
              "    .dataframe thead th {\n",
              "        text-align: right;\n",
              "    }\n",
              "</style>\n",
              "<table border=\"1\" class=\"dataframe\">\n",
              "  <thead>\n",
              "    <tr style=\"text-align: right;\">\n",
              "      <th></th>\n",
              "      <th>budget</th>\n",
              "      <th>company</th>\n",
              "      <th>country</th>\n",
              "      <th>director</th>\n",
              "      <th>genre</th>\n",
              "      <th>gross</th>\n",
              "      <th>name</th>\n",
              "      <th>rating</th>\n",
              "      <th>released</th>\n",
              "      <th>runtime</th>\n",
              "      <th>score</th>\n",
              "      <th>star</th>\n",
              "      <th>votes</th>\n",
              "      <th>writer</th>\n",
              "      <th>year</th>\n",
              "    </tr>\n",
              "  </thead>\n",
              "  <tbody>\n",
              "    <tr>\n",
              "      <th>0</th>\n",
              "      <td>8000000</td>\n",
              "      <td>Columbia Pictures Corporation</td>\n",
              "      <td>USA</td>\n",
              "      <td>Rob Reiner</td>\n",
              "      <td>Adventure</td>\n",
              "      <td>52287414</td>\n",
              "      <td>Stand by Me</td>\n",
              "      <td>R</td>\n",
              "      <td>1986-08-22</td>\n",
              "      <td>89</td>\n",
              "      <td>8.1</td>\n",
              "      <td>Wil Wheaton</td>\n",
              "      <td>299174</td>\n",
              "      <td>Stephen King</td>\n",
              "      <td>1986</td>\n",
              "    </tr>\n",
              "    <tr>\n",
              "      <th>1</th>\n",
              "      <td>6000000</td>\n",
              "      <td>Paramount Pictures</td>\n",
              "      <td>USA</td>\n",
              "      <td>John Hughes</td>\n",
              "      <td>Comedy</td>\n",
              "      <td>70136369</td>\n",
              "      <td>Ferris Bueller's Day Off</td>\n",
              "      <td>PG-13</td>\n",
              "      <td>1986-06-11</td>\n",
              "      <td>103</td>\n",
              "      <td>7.8</td>\n",
              "      <td>Matthew Broderick</td>\n",
              "      <td>264740</td>\n",
              "      <td>John Hughes</td>\n",
              "      <td>1986</td>\n",
              "    </tr>\n",
              "    <tr>\n",
              "      <th>2</th>\n",
              "      <td>15000000</td>\n",
              "      <td>Paramount Pictures</td>\n",
              "      <td>USA</td>\n",
              "      <td>Tony Scott</td>\n",
              "      <td>Action</td>\n",
              "      <td>179800601</td>\n",
              "      <td>Top Gun</td>\n",
              "      <td>PG</td>\n",
              "      <td>1986-05-16</td>\n",
              "      <td>110</td>\n",
              "      <td>6.9</td>\n",
              "      <td>Tom Cruise</td>\n",
              "      <td>236909</td>\n",
              "      <td>Jim Cash</td>\n",
              "      <td>1986</td>\n",
              "    </tr>\n",
              "    <tr>\n",
              "      <th>3</th>\n",
              "      <td>18500000</td>\n",
              "      <td>Twentieth Century Fox Film Corporation</td>\n",
              "      <td>USA</td>\n",
              "      <td>James Cameron</td>\n",
              "      <td>Action</td>\n",
              "      <td>85160248</td>\n",
              "      <td>Aliens</td>\n",
              "      <td>R</td>\n",
              "      <td>1986-07-18</td>\n",
              "      <td>137</td>\n",
              "      <td>8.4</td>\n",
              "      <td>Sigourney Weaver</td>\n",
              "      <td>540152</td>\n",
              "      <td>James Cameron</td>\n",
              "      <td>1986</td>\n",
              "    </tr>\n",
              "    <tr>\n",
              "      <th>4</th>\n",
              "      <td>9000000</td>\n",
              "      <td>Walt Disney Pictures</td>\n",
              "      <td>USA</td>\n",
              "      <td>Randal Kleiser</td>\n",
              "      <td>Adventure</td>\n",
              "      <td>18564613</td>\n",
              "      <td>Flight of the Navigator</td>\n",
              "      <td>PG</td>\n",
              "      <td>1986-08-01</td>\n",
              "      <td>90</td>\n",
              "      <td>6.9</td>\n",
              "      <td>Joey Cramer</td>\n",
              "      <td>36636</td>\n",
              "      <td>Mark H. Baker</td>\n",
              "      <td>1986</td>\n",
              "    </tr>\n",
              "  </tbody>\n",
              "</table>\n",
              "</div>"
            ],
            "text/plain": [
              "     budget                                 company  ...         writer  year\n",
              "0   8000000           Columbia Pictures Corporation  ...   Stephen King  1986\n",
              "1   6000000                      Paramount Pictures  ...    John Hughes  1986\n",
              "2  15000000                      Paramount Pictures  ...       Jim Cash  1986\n",
              "3  18500000  Twentieth Century Fox Film Corporation  ...  James Cameron  1986\n",
              "4   9000000                    Walt Disney Pictures  ...  Mark H. Baker  1986\n",
              "\n",
              "[5 rows x 15 columns]"
            ]
          },
          "metadata": {
            "tags": []
          },
          "execution_count": 44
        }
      ]
    },
    {
      "cell_type": "markdown",
      "metadata": {
        "id": "MeZpqy58-Z-o"
      },
      "source": [
        "The 'year' and 'released' not always matching.... "
      ]
    },
    {
      "cell_type": "code",
      "metadata": {
        "id": "5lWfXdDk-f16"
      },
      "source": [
        "df['year_corrected'] = df['released'].astype('str').str[:4]"
      ],
      "execution_count": 45,
      "outputs": []
    },
    {
      "cell_type": "code",
      "metadata": {
        "colab": {
          "base_uri": "https://localhost:8080/",
          "height": 391
        },
        "id": "yrYAm-pw-zM9",
        "outputId": "ce9eff35-79f6-4ee2-af1b-8e835fffd3ad"
      },
      "source": [
        "df.head()"
      ],
      "execution_count": 46,
      "outputs": [
        {
          "output_type": "execute_result",
          "data": {
            "text/html": [
              "<div>\n",
              "<style scoped>\n",
              "    .dataframe tbody tr th:only-of-type {\n",
              "        vertical-align: middle;\n",
              "    }\n",
              "\n",
              "    .dataframe tbody tr th {\n",
              "        vertical-align: top;\n",
              "    }\n",
              "\n",
              "    .dataframe thead th {\n",
              "        text-align: right;\n",
              "    }\n",
              "</style>\n",
              "<table border=\"1\" class=\"dataframe\">\n",
              "  <thead>\n",
              "    <tr style=\"text-align: right;\">\n",
              "      <th></th>\n",
              "      <th>budget</th>\n",
              "      <th>company</th>\n",
              "      <th>country</th>\n",
              "      <th>director</th>\n",
              "      <th>genre</th>\n",
              "      <th>gross</th>\n",
              "      <th>name</th>\n",
              "      <th>rating</th>\n",
              "      <th>released</th>\n",
              "      <th>runtime</th>\n",
              "      <th>score</th>\n",
              "      <th>star</th>\n",
              "      <th>votes</th>\n",
              "      <th>writer</th>\n",
              "      <th>year</th>\n",
              "      <th>year_corrected</th>\n",
              "    </tr>\n",
              "  </thead>\n",
              "  <tbody>\n",
              "    <tr>\n",
              "      <th>0</th>\n",
              "      <td>8000000</td>\n",
              "      <td>Columbia Pictures Corporation</td>\n",
              "      <td>USA</td>\n",
              "      <td>Rob Reiner</td>\n",
              "      <td>Adventure</td>\n",
              "      <td>52287414</td>\n",
              "      <td>Stand by Me</td>\n",
              "      <td>R</td>\n",
              "      <td>1986-08-22</td>\n",
              "      <td>89</td>\n",
              "      <td>8.1</td>\n",
              "      <td>Wil Wheaton</td>\n",
              "      <td>299174</td>\n",
              "      <td>Stephen King</td>\n",
              "      <td>1986</td>\n",
              "      <td>1986</td>\n",
              "    </tr>\n",
              "    <tr>\n",
              "      <th>1</th>\n",
              "      <td>6000000</td>\n",
              "      <td>Paramount Pictures</td>\n",
              "      <td>USA</td>\n",
              "      <td>John Hughes</td>\n",
              "      <td>Comedy</td>\n",
              "      <td>70136369</td>\n",
              "      <td>Ferris Bueller's Day Off</td>\n",
              "      <td>PG-13</td>\n",
              "      <td>1986-06-11</td>\n",
              "      <td>103</td>\n",
              "      <td>7.8</td>\n",
              "      <td>Matthew Broderick</td>\n",
              "      <td>264740</td>\n",
              "      <td>John Hughes</td>\n",
              "      <td>1986</td>\n",
              "      <td>1986</td>\n",
              "    </tr>\n",
              "    <tr>\n",
              "      <th>2</th>\n",
              "      <td>15000000</td>\n",
              "      <td>Paramount Pictures</td>\n",
              "      <td>USA</td>\n",
              "      <td>Tony Scott</td>\n",
              "      <td>Action</td>\n",
              "      <td>179800601</td>\n",
              "      <td>Top Gun</td>\n",
              "      <td>PG</td>\n",
              "      <td>1986-05-16</td>\n",
              "      <td>110</td>\n",
              "      <td>6.9</td>\n",
              "      <td>Tom Cruise</td>\n",
              "      <td>236909</td>\n",
              "      <td>Jim Cash</td>\n",
              "      <td>1986</td>\n",
              "      <td>1986</td>\n",
              "    </tr>\n",
              "    <tr>\n",
              "      <th>3</th>\n",
              "      <td>18500000</td>\n",
              "      <td>Twentieth Century Fox Film Corporation</td>\n",
              "      <td>USA</td>\n",
              "      <td>James Cameron</td>\n",
              "      <td>Action</td>\n",
              "      <td>85160248</td>\n",
              "      <td>Aliens</td>\n",
              "      <td>R</td>\n",
              "      <td>1986-07-18</td>\n",
              "      <td>137</td>\n",
              "      <td>8.4</td>\n",
              "      <td>Sigourney Weaver</td>\n",
              "      <td>540152</td>\n",
              "      <td>James Cameron</td>\n",
              "      <td>1986</td>\n",
              "      <td>1986</td>\n",
              "    </tr>\n",
              "    <tr>\n",
              "      <th>4</th>\n",
              "      <td>9000000</td>\n",
              "      <td>Walt Disney Pictures</td>\n",
              "      <td>USA</td>\n",
              "      <td>Randal Kleiser</td>\n",
              "      <td>Adventure</td>\n",
              "      <td>18564613</td>\n",
              "      <td>Flight of the Navigator</td>\n",
              "      <td>PG</td>\n",
              "      <td>1986-08-01</td>\n",
              "      <td>90</td>\n",
              "      <td>6.9</td>\n",
              "      <td>Joey Cramer</td>\n",
              "      <td>36636</td>\n",
              "      <td>Mark H. Baker</td>\n",
              "      <td>1986</td>\n",
              "      <td>1986</td>\n",
              "    </tr>\n",
              "  </tbody>\n",
              "</table>\n",
              "</div>"
            ],
            "text/plain": [
              "     budget                                 company  ...  year year_corrected\n",
              "0   8000000           Columbia Pictures Corporation  ...  1986           1986\n",
              "1   6000000                      Paramount Pictures  ...  1986           1986\n",
              "2  15000000                      Paramount Pictures  ...  1986           1986\n",
              "3  18500000  Twentieth Century Fox Film Corporation  ...  1986           1986\n",
              "4   9000000                    Walt Disney Pictures  ...  1986           1986\n",
              "\n",
              "[5 rows x 16 columns]"
            ]
          },
          "metadata": {
            "tags": []
          },
          "execution_count": 46
        }
      ]
    },
    {
      "cell_type": "markdown",
      "metadata": {
        "id": "urrhyU9f_Bz7"
      },
      "source": [
        "## Order the datas based on the gross"
      ]
    },
    {
      "cell_type": "code",
      "metadata": {
        "colab": {
          "base_uri": "https://localhost:8080/",
          "height": 773
        },
        "id": "S-qZgsPL_El8",
        "outputId": "45aa000b-493d-4f6d-e79a-426bc1db6c39"
      },
      "source": [
        "df.sort_values(by=['gross'], inplace=False, ascending=False)"
      ],
      "execution_count": 47,
      "outputs": [
        {
          "output_type": "execute_result",
          "data": {
            "text/html": [
              "<div>\n",
              "<style scoped>\n",
              "    .dataframe tbody tr th:only-of-type {\n",
              "        vertical-align: middle;\n",
              "    }\n",
              "\n",
              "    .dataframe tbody tr th {\n",
              "        vertical-align: top;\n",
              "    }\n",
              "\n",
              "    .dataframe thead th {\n",
              "        text-align: right;\n",
              "    }\n",
              "</style>\n",
              "<table border=\"1\" class=\"dataframe\">\n",
              "  <thead>\n",
              "    <tr style=\"text-align: right;\">\n",
              "      <th></th>\n",
              "      <th>budget</th>\n",
              "      <th>company</th>\n",
              "      <th>country</th>\n",
              "      <th>director</th>\n",
              "      <th>genre</th>\n",
              "      <th>gross</th>\n",
              "      <th>name</th>\n",
              "      <th>rating</th>\n",
              "      <th>released</th>\n",
              "      <th>runtime</th>\n",
              "      <th>score</th>\n",
              "      <th>star</th>\n",
              "      <th>votes</th>\n",
              "      <th>writer</th>\n",
              "      <th>year</th>\n",
              "      <th>year_corrected</th>\n",
              "    </tr>\n",
              "  </thead>\n",
              "  <tbody>\n",
              "    <tr>\n",
              "      <th>6380</th>\n",
              "      <td>245000000</td>\n",
              "      <td>Lucasfilm</td>\n",
              "      <td>USA</td>\n",
              "      <td>J.J. Abrams</td>\n",
              "      <td>Action</td>\n",
              "      <td>936662225</td>\n",
              "      <td>Star Wars: The Force Awakens</td>\n",
              "      <td>PG-13</td>\n",
              "      <td>2015-12-18</td>\n",
              "      <td>136</td>\n",
              "      <td>8.1</td>\n",
              "      <td>Daisy Ridley</td>\n",
              "      <td>687192</td>\n",
              "      <td>Lawrence Kasdan</td>\n",
              "      <td>2015</td>\n",
              "      <td>2015</td>\n",
              "    </tr>\n",
              "    <tr>\n",
              "      <th>5061</th>\n",
              "      <td>237000000</td>\n",
              "      <td>Twentieth Century Fox Film Corporation</td>\n",
              "      <td>UK</td>\n",
              "      <td>James Cameron</td>\n",
              "      <td>Action</td>\n",
              "      <td>760507625</td>\n",
              "      <td>Avatar</td>\n",
              "      <td>PG-13</td>\n",
              "      <td>2009-12-18</td>\n",
              "      <td>162</td>\n",
              "      <td>7.8</td>\n",
              "      <td>Sam Worthington</td>\n",
              "      <td>954412</td>\n",
              "      <td>James Cameron</td>\n",
              "      <td>2009</td>\n",
              "      <td>2009</td>\n",
              "    </tr>\n",
              "    <tr>\n",
              "      <th>2420</th>\n",
              "      <td>200000000</td>\n",
              "      <td>Twentieth Century Fox Film Corporation</td>\n",
              "      <td>USA</td>\n",
              "      <td>James Cameron</td>\n",
              "      <td>Drama</td>\n",
              "      <td>658672302</td>\n",
              "      <td>Titanic</td>\n",
              "      <td>PG-13</td>\n",
              "      <td>1997-12-19</td>\n",
              "      <td>194</td>\n",
              "      <td>7.8</td>\n",
              "      <td>Leonardo DiCaprio</td>\n",
              "      <td>862554</td>\n",
              "      <td>James Cameron</td>\n",
              "      <td>1997</td>\n",
              "      <td>1997</td>\n",
              "    </tr>\n",
              "    <tr>\n",
              "      <th>6391</th>\n",
              "      <td>150000000</td>\n",
              "      <td>Universal Pictures</td>\n",
              "      <td>USA</td>\n",
              "      <td>Colin Trevorrow</td>\n",
              "      <td>Action</td>\n",
              "      <td>652270625</td>\n",
              "      <td>Jurassic World</td>\n",
              "      <td>PG-13</td>\n",
              "      <td>2015-06-12</td>\n",
              "      <td>124</td>\n",
              "      <td>7.0</td>\n",
              "      <td>Chris Pratt</td>\n",
              "      <td>469200</td>\n",
              "      <td>Rick Jaffa</td>\n",
              "      <td>2015</td>\n",
              "      <td>2015</td>\n",
              "    </tr>\n",
              "    <tr>\n",
              "      <th>5723</th>\n",
              "      <td>220000000</td>\n",
              "      <td>Marvel Studios</td>\n",
              "      <td>USA</td>\n",
              "      <td>Joss Whedon</td>\n",
              "      <td>Action</td>\n",
              "      <td>623357910</td>\n",
              "      <td>The Avengers</td>\n",
              "      <td>PG-13</td>\n",
              "      <td>2012-05-04</td>\n",
              "      <td>143</td>\n",
              "      <td>8.1</td>\n",
              "      <td>Robert Downey Jr.</td>\n",
              "      <td>1064633</td>\n",
              "      <td>Joss Whedon</td>\n",
              "      <td>2012</td>\n",
              "      <td>2012</td>\n",
              "    </tr>\n",
              "    <tr>\n",
              "      <th>...</th>\n",
              "      <td>...</td>\n",
              "      <td>...</td>\n",
              "      <td>...</td>\n",
              "      <td>...</td>\n",
              "      <td>...</td>\n",
              "      <td>...</td>\n",
              "      <td>...</td>\n",
              "      <td>...</td>\n",
              "      <td>...</td>\n",
              "      <td>...</td>\n",
              "      <td>...</td>\n",
              "      <td>...</td>\n",
              "      <td>...</td>\n",
              "      <td>...</td>\n",
              "      <td>...</td>\n",
              "      <td>...</td>\n",
              "    </tr>\n",
              "    <tr>\n",
              "      <th>5917</th>\n",
              "      <td>0</td>\n",
              "      <td>Zentropa International Norway</td>\n",
              "      <td>Norway</td>\n",
              "      <td>Petter Næss</td>\n",
              "      <td>Action</td>\n",
              "      <td>547</td>\n",
              "      <td>Into the White</td>\n",
              "      <td>R</td>\n",
              "      <td>2013-04-12</td>\n",
              "      <td>104</td>\n",
              "      <td>7.2</td>\n",
              "      <td>Florian Lukas</td>\n",
              "      <td>16609</td>\n",
              "      <td>Ole Meldgaard</td>\n",
              "      <td>2012</td>\n",
              "      <td>2013</td>\n",
              "    </tr>\n",
              "    <tr>\n",
              "      <th>5699</th>\n",
              "      <td>0</td>\n",
              "      <td>Isle of Man Film</td>\n",
              "      <td>UK</td>\n",
              "      <td>Sheree Folkson</td>\n",
              "      <td>Comedy</td>\n",
              "      <td>542</td>\n",
              "      <td>The Decoy Bride</td>\n",
              "      <td>PG</td>\n",
              "      <td>2012-03-09</td>\n",
              "      <td>89</td>\n",
              "      <td>6.2</td>\n",
              "      <td>Kelly Macdonald</td>\n",
              "      <td>9018</td>\n",
              "      <td>Neil Jaworski</td>\n",
              "      <td>2011</td>\n",
              "      <td>2012</td>\n",
              "    </tr>\n",
              "    <tr>\n",
              "      <th>6066</th>\n",
              "      <td>0</td>\n",
              "      <td>Cinetel Films</td>\n",
              "      <td>USA</td>\n",
              "      <td>Steven R. Monroe</td>\n",
              "      <td>Crime</td>\n",
              "      <td>441</td>\n",
              "      <td>I Spit on Your Grave 2</td>\n",
              "      <td>R</td>\n",
              "      <td>2014-01-19</td>\n",
              "      <td>106</td>\n",
              "      <td>5.7</td>\n",
              "      <td>Jemma Dallender</td>\n",
              "      <td>21070</td>\n",
              "      <td>Neil Elman</td>\n",
              "      <td>2013</td>\n",
              "      <td>2014</td>\n",
              "    </tr>\n",
              "    <tr>\n",
              "      <th>2594</th>\n",
              "      <td>15000000</td>\n",
              "      <td>Daybreak</td>\n",
              "      <td>USA</td>\n",
              "      <td>George Huang</td>\n",
              "      <td>Comedy</td>\n",
              "      <td>309</td>\n",
              "      <td>Trojan War</td>\n",
              "      <td>PG-13</td>\n",
              "      <td>1997-10-01</td>\n",
              "      <td>84</td>\n",
              "      <td>5.7</td>\n",
              "      <td>Will Friedle</td>\n",
              "      <td>5034</td>\n",
              "      <td>Andy Burg</td>\n",
              "      <td>1997</td>\n",
              "      <td>1997</td>\n",
              "    </tr>\n",
              "    <tr>\n",
              "      <th>6784</th>\n",
              "      <td>0</td>\n",
              "      <td>Magic Lantern</td>\n",
              "      <td>Spain</td>\n",
              "      <td>Carles Torrens</td>\n",
              "      <td>Horror</td>\n",
              "      <td>70</td>\n",
              "      <td>Pet</td>\n",
              "      <td>R</td>\n",
              "      <td>2016-12-02</td>\n",
              "      <td>94</td>\n",
              "      <td>5.7</td>\n",
              "      <td>Dominic Monaghan</td>\n",
              "      <td>10504</td>\n",
              "      <td>Jeremy Slater</td>\n",
              "      <td>2016</td>\n",
              "      <td>2016</td>\n",
              "    </tr>\n",
              "  </tbody>\n",
              "</table>\n",
              "<p>6820 rows × 16 columns</p>\n",
              "</div>"
            ],
            "text/plain": [
              "         budget                                 company  ...  year year_corrected\n",
              "6380  245000000                               Lucasfilm  ...  2015           2015\n",
              "5061  237000000  Twentieth Century Fox Film Corporation  ...  2009           2009\n",
              "2420  200000000  Twentieth Century Fox Film Corporation  ...  1997           1997\n",
              "6391  150000000                      Universal Pictures  ...  2015           2015\n",
              "5723  220000000                          Marvel Studios  ...  2012           2012\n",
              "...         ...                                     ...  ...   ...            ...\n",
              "5917          0           Zentropa International Norway  ...  2012           2013\n",
              "5699          0                        Isle of Man Film  ...  2011           2012\n",
              "6066          0                           Cinetel Films  ...  2013           2014\n",
              "2594   15000000                                Daybreak  ...  1997           1997\n",
              "6784          0                           Magic Lantern  ...  2016           2016\n",
              "\n",
              "[6820 rows x 16 columns]"
            ]
          },
          "metadata": {
            "tags": []
          },
          "execution_count": 47
        }
      ]
    },
    {
      "cell_type": "markdown",
      "metadata": {
        "id": "zzk1fqMG_v5w"
      },
      "source": [
        "## Drop any Duplicates"
      ]
    },
    {
      "cell_type": "code",
      "metadata": {
        "colab": {
          "base_uri": "https://localhost:8080/"
        },
        "id": "B-eaTOVX_xYd",
        "outputId": "27060e71-e564-4c6d-daa9-3d7001573270"
      },
      "source": [
        "df['company'].drop_duplicates().sort_values(ascending=False)"
      ],
      "execution_count": 48,
      "outputs": [
        {
          "output_type": "execute_result",
          "data": {
            "text/plain": [
              "5288                        micro_scope\n",
              "3486                           i5 Films\n",
              "6084                               erbp\n",
              "3225                     double A Films\n",
              "2707        Zucker Brothers Productions\n",
              "                     ...               \n",
              "3527                          120 Films\n",
              "5466              10th Hole Productions\n",
              "2815                 101st Street Films\n",
              "3208                 1+2 Seisaku Iinkai\n",
              "3832    \"DIA\" Productions GmbH & Co. KG\n",
              "Name: company, Length: 2179, dtype: object"
            ]
          },
          "metadata": {
            "tags": []
          },
          "execution_count": 48
        }
      ]
    },
    {
      "cell_type": "markdown",
      "metadata": {
        "id": "3i99a3CIO3_Y"
      },
      "source": [
        ""
      ]
    },
    {
      "cell_type": "markdown",
      "metadata": {
        "id": "_IJB0K12O4Gx"
      },
      "source": [
        "## Hypothesis\n",
        "\n",
        "Budget high correlation with gross\n",
        "Company high correlation with gross"
      ]
    },
    {
      "cell_type": "markdown",
      "metadata": {
        "id": "wDVz1UoUPCwz"
      },
      "source": [
        "Scatter Plot with Budget vs Gross"
      ]
    },
    {
      "cell_type": "code",
      "metadata": {
        "colab": {
          "base_uri": "https://localhost:8080/",
          "height": 517
        },
        "id": "bBfcJ7eFPAva",
        "outputId": "f6c5a62f-19a2-4642-e410-52a77e122a08"
      },
      "source": [
        "plt.scatter(x = df['budget'], y = df['gross'])\n",
        "\n",
        "plt.title(\"Budget v Gross Earnings\")\n",
        "\n",
        "plt.xlabel('Gross Earning')\n",
        "plt.ylabel('Budget of Film')\n",
        "\n",
        "plt.show()"
      ],
      "execution_count": 49,
      "outputs": [
        {
          "output_type": "display_data",
          "data": {
            "image/png": "[encoded data removed]",
            "text/plain": [
              "<Figure size 864x576 with 1 Axes>"
            ]
          },
          "metadata": {
            "tags": [],
            "needs_background": "light"
          }
        }
      ]
    },
    {
      "cell_type": "markdown",
      "metadata": {
        "id": "RLcYmfxoP0qZ"
      },
      "source": [
        "Reg Plot using Seaborn"
      ]
    },
    {
      "cell_type": "code",
      "metadata": {
        "colab": {
          "base_uri": "https://localhost:8080/",
          "height": 529
        },
        "id": "q90-j-p9P2Jp",
        "outputId": "97e0fac7-2654-4700-9208-28acbccb3655"
      },
      "source": [
        "sns.regplot(x = 'budget', y = 'gross', data=df, scatter_kws={\"color\": \"red\"}, line_kws={\"color\": \"blue\"})"
      ],
      "execution_count": 50,
      "outputs": [
        {
          "output_type": "execute_result",
          "data": {
            "text/plain": [
              "<matplotlib.axes._subplots.AxesSubplot at 0x7f5757e37550>"
            ]
          },
          "metadata": {
            "tags": []
          },
          "execution_count": 50
        },
        {
          "output_type": "display_data",
          "data": {
            "image/png": "[encoded data removed]",
            "text/plain": [
              "<Figure size 864x576 with 1 Axes>"
            ]
          },
          "metadata": {
            "tags": [],
            "needs_background": "light"
          }
        }
      ]
    },
    {
      "cell_type": "markdown",
      "metadata": {
        "id": "DeB5ugzAQ0Hn"
      },
      "source": [
        "Correlation from our Data"
      ]
    },
    {
      "cell_type": "code",
      "metadata": {
        "colab": {
          "base_uri": "https://localhost:8080/",
          "height": 234
        },
        "id": "J-T2pl5nQ2dm",
        "outputId": "a1db28cf-ebd1-4f2f-cea8-9e6b6525fa10"
      },
      "source": [
        "df.corr()"
      ],
      "execution_count": 51,
      "outputs": [
        {
          "output_type": "execute_result",
          "data": {
            "text/html": [
              "<div>\n",
              "<style scoped>\n",
              "    .dataframe tbody tr th:only-of-type {\n",
              "        vertical-align: middle;\n",
              "    }\n",
              "\n",
              "    .dataframe tbody tr th {\n",
              "        vertical-align: top;\n",
              "    }\n",
              "\n",
              "    .dataframe thead th {\n",
              "        text-align: right;\n",
              "    }\n",
              "</style>\n",
              "<table border=\"1\" class=\"dataframe\">\n",
              "  <thead>\n",
              "    <tr style=\"text-align: right;\">\n",
              "      <th></th>\n",
              "      <th>budget</th>\n",
              "      <th>gross</th>\n",
              "      <th>runtime</th>\n",
              "      <th>score</th>\n",
              "      <th>votes</th>\n",
              "      <th>year</th>\n",
              "    </tr>\n",
              "  </thead>\n",
              "  <tbody>\n",
              "    <tr>\n",
              "      <th>budget</th>\n",
              "      <td>1.000000</td>\n",
              "      <td>0.712196</td>\n",
              "      <td>0.268226</td>\n",
              "      <td>0.042145</td>\n",
              "      <td>0.503924</td>\n",
              "      <td>0.291009</td>\n",
              "    </tr>\n",
              "    <tr>\n",
              "      <th>gross</th>\n",
              "      <td>0.712196</td>\n",
              "      <td>1.000000</td>\n",
              "      <td>0.224579</td>\n",
              "      <td>0.165693</td>\n",
              "      <td>0.662457</td>\n",
              "      <td>0.191548</td>\n",
              "    </tr>\n",
              "    <tr>\n",
              "      <th>runtime</th>\n",
              "      <td>0.268226</td>\n",
              "      <td>0.224579</td>\n",
              "      <td>1.000000</td>\n",
              "      <td>0.395343</td>\n",
              "      <td>0.317399</td>\n",
              "      <td>0.087639</td>\n",
              "    </tr>\n",
              "    <tr>\n",
              "      <th>score</th>\n",
              "      <td>0.042145</td>\n",
              "      <td>0.165693</td>\n",
              "      <td>0.395343</td>\n",
              "      <td>1.000000</td>\n",
              "      <td>0.393607</td>\n",
              "      <td>0.105276</td>\n",
              "    </tr>\n",
              "    <tr>\n",
              "      <th>votes</th>\n",
              "      <td>0.503924</td>\n",
              "      <td>0.662457</td>\n",
              "      <td>0.317399</td>\n",
              "      <td>0.393607</td>\n",
              "      <td>1.000000</td>\n",
              "      <td>0.229304</td>\n",
              "    </tr>\n",
              "    <tr>\n",
              "      <th>year</th>\n",
              "      <td>0.291009</td>\n",
              "      <td>0.191548</td>\n",
              "      <td>0.087639</td>\n",
              "      <td>0.105276</td>\n",
              "      <td>0.229304</td>\n",
              "      <td>1.000000</td>\n",
              "    </tr>\n",
              "  </tbody>\n",
              "</table>\n",
              "</div>"
            ],
            "text/plain": [
              "           budget     gross   runtime     score     votes      year\n",
              "budget   1.000000  0.712196  0.268226  0.042145  0.503924  0.291009\n",
              "gross    0.712196  1.000000  0.224579  0.165693  0.662457  0.191548\n",
              "runtime  0.268226  0.224579  1.000000  0.395343  0.317399  0.087639\n",
              "score    0.042145  0.165693  0.395343  1.000000  0.393607  0.105276\n",
              "votes    0.503924  0.662457  0.317399  0.393607  1.000000  0.229304\n",
              "year     0.291009  0.191548  0.087639  0.105276  0.229304  1.000000"
            ]
          },
          "metadata": {
            "tags": []
          },
          "execution_count": 51
        }
      ]
    },
    {
      "cell_type": "code",
      "metadata": {
        "colab": {
          "base_uri": "https://localhost:8080/",
          "height": 517
        },
        "id": "s4WeD8MwQ3jE",
        "outputId": "14b9302b-9e16-4c3b-ab86-652708d90d52"
      },
      "source": [
        "correlation_matrix = df.corr(method=\"pearson\")\n",
        "\n",
        "sns.heatmap(correlation_matrix, annot=True)\n",
        "\n",
        "plt.title('Correlation Matrix for Numeric Features')\n",
        "\n",
        "plt.xlabel('Movie Features')\n",
        "\n",
        "plt.ylabel('Movie Features')\n",
        "\n",
        "plt.show()"
      ],
      "execution_count": 52,
      "outputs": [
        {
          "output_type": "display_data",
          "data": {
            "image/png": "[encoded data removed]",
            "text/plain": [
              "<Figure size 864x576 with 2 Axes>"
            ]
          },
          "metadata": {
            "tags": [],
            "needs_background": "light"
          }
        }
      ]
    },
    {
      "cell_type": "markdown",
      "metadata": {
        "id": "I46Fc1N6U-OW"
      },
      "source": [
        "Company v Gross\n",
        "Genre v Gross etc\n",
        "(Since company is string -> we need to encode)"
      ]
    },
    {
      "cell_type": "code",
      "metadata": {
        "id": "XYUuULKdVCcS"
      },
      "source": [
        "# df_numerized = df\n",
        "\n",
        "# for col_name in df_numerized.columns:\n",
        "#   if df_numerized[col_name].dtype == 'object':\n",
        "#     df_numerized[col_name] = df_numerized[col_name].astype('category')\n",
        "#     df_numerized[col_name] = df_numerized[col_name].cat.codes\n",
        "\n",
        "\n",
        "# df_numerized"
      ],
      "execution_count": 53,
      "outputs": []
    },
    {
      "cell_type": "code",
      "metadata": {
        "colab": {
          "base_uri": "https://localhost:8080/",
          "height": 773
        },
        "id": "fbprlhnqV0h-",
        "outputId": "b48bcf5b-c90d-4463-892b-741e0c4a079f"
      },
      "source": [
        "df"
      ],
      "execution_count": 54,
      "outputs": [
        {
          "output_type": "execute_result",
          "data": {
            "text/html": [
              "<div>\n",
              "<style scoped>\n",
              "    .dataframe tbody tr th:only-of-type {\n",
              "        vertical-align: middle;\n",
              "    }\n",
              "\n",
              "    .dataframe tbody tr th {\n",
              "        vertical-align: top;\n",
              "    }\n",
              "\n",
              "    .dataframe thead th {\n",
              "        text-align: right;\n",
              "    }\n",
              "</style>\n",
              "<table border=\"1\" class=\"dataframe\">\n",
              "  <thead>\n",
              "    <tr style=\"text-align: right;\">\n",
              "      <th></th>\n",
              "      <th>budget</th>\n",
              "      <th>company</th>\n",
              "      <th>country</th>\n",
              "      <th>director</th>\n",
              "      <th>genre</th>\n",
              "      <th>gross</th>\n",
              "      <th>name</th>\n",
              "      <th>rating</th>\n",
              "      <th>released</th>\n",
              "      <th>runtime</th>\n",
              "      <th>score</th>\n",
              "      <th>star</th>\n",
              "      <th>votes</th>\n",
              "      <th>writer</th>\n",
              "      <th>year</th>\n",
              "      <th>year_corrected</th>\n",
              "    </tr>\n",
              "  </thead>\n",
              "  <tbody>\n",
              "    <tr>\n",
              "      <th>0</th>\n",
              "      <td>8000000</td>\n",
              "      <td>Columbia Pictures Corporation</td>\n",
              "      <td>USA</td>\n",
              "      <td>Rob Reiner</td>\n",
              "      <td>Adventure</td>\n",
              "      <td>52287414</td>\n",
              "      <td>Stand by Me</td>\n",
              "      <td>R</td>\n",
              "      <td>1986-08-22</td>\n",
              "      <td>89</td>\n",
              "      <td>8.1</td>\n",
              "      <td>Wil Wheaton</td>\n",
              "      <td>299174</td>\n",
              "      <td>Stephen King</td>\n",
              "      <td>1986</td>\n",
              "      <td>1986</td>\n",
              "    </tr>\n",
              "    <tr>\n",
              "      <th>1</th>\n",
              "      <td>6000000</td>\n",
              "      <td>Paramount Pictures</td>\n",
              "      <td>USA</td>\n",
              "      <td>John Hughes</td>\n",
              "      <td>Comedy</td>\n",
              "      <td>70136369</td>\n",
              "      <td>Ferris Bueller's Day Off</td>\n",
              "      <td>PG-13</td>\n",
              "      <td>1986-06-11</td>\n",
              "      <td>103</td>\n",
              "      <td>7.8</td>\n",
              "      <td>Matthew Broderick</td>\n",
              "      <td>264740</td>\n",
              "      <td>John Hughes</td>\n",
              "      <td>1986</td>\n",
              "      <td>1986</td>\n",
              "    </tr>\n",
              "    <tr>\n",
              "      <th>2</th>\n",
              "      <td>15000000</td>\n",
              "      <td>Paramount Pictures</td>\n",
              "      <td>USA</td>\n",
              "      <td>Tony Scott</td>\n",
              "      <td>Action</td>\n",
              "      <td>179800601</td>\n",
              "      <td>Top Gun</td>\n",
              "      <td>PG</td>\n",
              "      <td>1986-05-16</td>\n",
              "      <td>110</td>\n",
              "      <td>6.9</td>\n",
              "      <td>Tom Cruise</td>\n",
              "      <td>236909</td>\n",
              "      <td>Jim Cash</td>\n",
              "      <td>1986</td>\n",
              "      <td>1986</td>\n",
              "    </tr>\n",
              "    <tr>\n",
              "      <th>3</th>\n",
              "      <td>18500000</td>\n",
              "      <td>Twentieth Century Fox Film Corporation</td>\n",
              "      <td>USA</td>\n",
              "      <td>James Cameron</td>\n",
              "      <td>Action</td>\n",
              "      <td>85160248</td>\n",
              "      <td>Aliens</td>\n",
              "      <td>R</td>\n",
              "      <td>1986-07-18</td>\n",
              "      <td>137</td>\n",
              "      <td>8.4</td>\n",
              "      <td>Sigourney Weaver</td>\n",
              "      <td>540152</td>\n",
              "      <td>James Cameron</td>\n",
              "      <td>1986</td>\n",
              "      <td>1986</td>\n",
              "    </tr>\n",
              "    <tr>\n",
              "      <th>4</th>\n",
              "      <td>9000000</td>\n",
              "      <td>Walt Disney Pictures</td>\n",
              "      <td>USA</td>\n",
              "      <td>Randal Kleiser</td>\n",
              "      <td>Adventure</td>\n",
              "      <td>18564613</td>\n",
              "      <td>Flight of the Navigator</td>\n",
              "      <td>PG</td>\n",
              "      <td>1986-08-01</td>\n",
              "      <td>90</td>\n",
              "      <td>6.9</td>\n",
              "      <td>Joey Cramer</td>\n",
              "      <td>36636</td>\n",
              "      <td>Mark H. Baker</td>\n",
              "      <td>1986</td>\n",
              "      <td>1986</td>\n",
              "    </tr>\n",
              "    <tr>\n",
              "      <th>...</th>\n",
              "      <td>...</td>\n",
              "      <td>...</td>\n",
              "      <td>...</td>\n",
              "      <td>...</td>\n",
              "      <td>...</td>\n",
              "      <td>...</td>\n",
              "      <td>...</td>\n",
              "      <td>...</td>\n",
              "      <td>...</td>\n",
              "      <td>...</td>\n",
              "      <td>...</td>\n",
              "      <td>...</td>\n",
              "      <td>...</td>\n",
              "      <td>...</td>\n",
              "      <td>...</td>\n",
              "      <td>...</td>\n",
              "    </tr>\n",
              "    <tr>\n",
              "      <th>6815</th>\n",
              "      <td>0</td>\n",
              "      <td>Fox Searchlight Pictures</td>\n",
              "      <td>UK</td>\n",
              "      <td>Mandie Fletcher</td>\n",
              "      <td>Comedy</td>\n",
              "      <td>4750497</td>\n",
              "      <td>Absolutely Fabulous: The Movie</td>\n",
              "      <td>R</td>\n",
              "      <td>2016-07-22</td>\n",
              "      <td>91</td>\n",
              "      <td>5.4</td>\n",
              "      <td>Jennifer Saunders</td>\n",
              "      <td>9161</td>\n",
              "      <td>Jennifer Saunders</td>\n",
              "      <td>2016</td>\n",
              "      <td>2016</td>\n",
              "    </tr>\n",
              "    <tr>\n",
              "      <th>6816</th>\n",
              "      <td>0</td>\n",
              "      <td>Siempre Viva Productions</td>\n",
              "      <td>USA</td>\n",
              "      <td>Paul Duddridge</td>\n",
              "      <td>Drama</td>\n",
              "      <td>28368</td>\n",
              "      <td>Mothers and Daughters</td>\n",
              "      <td>PG-13</td>\n",
              "      <td>2016-05-06</td>\n",
              "      <td>90</td>\n",
              "      <td>4.9</td>\n",
              "      <td>Selma Blair</td>\n",
              "      <td>1959</td>\n",
              "      <td>Paige Cameron</td>\n",
              "      <td>2016</td>\n",
              "      <td>2016</td>\n",
              "    </tr>\n",
              "    <tr>\n",
              "      <th>6817</th>\n",
              "      <td>3500000</td>\n",
              "      <td>Warner Bros. Animation</td>\n",
              "      <td>USA</td>\n",
              "      <td>Sam Liu</td>\n",
              "      <td>Animation</td>\n",
              "      <td>3775000</td>\n",
              "      <td>Batman: The Killing Joke</td>\n",
              "      <td>R</td>\n",
              "      <td>2016-07-25</td>\n",
              "      <td>76</td>\n",
              "      <td>6.5</td>\n",
              "      <td>Kevin Conroy</td>\n",
              "      <td>36333</td>\n",
              "      <td>Brian Azzarello</td>\n",
              "      <td>2016</td>\n",
              "      <td>2016</td>\n",
              "    </tr>\n",
              "    <tr>\n",
              "      <th>6818</th>\n",
              "      <td>0</td>\n",
              "      <td>Borderline Presents</td>\n",
              "      <td>USA</td>\n",
              "      <td>Nicolas Pesce</td>\n",
              "      <td>Drama</td>\n",
              "      <td>25981</td>\n",
              "      <td>The Eyes of My Mother</td>\n",
              "      <td>R</td>\n",
              "      <td>2016-12-02</td>\n",
              "      <td>76</td>\n",
              "      <td>6.2</td>\n",
              "      <td>Kika Magalhães</td>\n",
              "      <td>6947</td>\n",
              "      <td>Nicolas Pesce</td>\n",
              "      <td>2016</td>\n",
              "      <td>2016</td>\n",
              "    </tr>\n",
              "    <tr>\n",
              "      <th>6819</th>\n",
              "      <td>0</td>\n",
              "      <td>Les Productions du Trésor</td>\n",
              "      <td>France</td>\n",
              "      <td>Nicole Garcia</td>\n",
              "      <td>Drama</td>\n",
              "      <td>37757</td>\n",
              "      <td>From the Land of the Moon</td>\n",
              "      <td>R</td>\n",
              "      <td>2017-07-28</td>\n",
              "      <td>120</td>\n",
              "      <td>6.7</td>\n",
              "      <td>Marion Cotillard</td>\n",
              "      <td>2411</td>\n",
              "      <td>Milena Agus</td>\n",
              "      <td>2016</td>\n",
              "      <td>2017</td>\n",
              "    </tr>\n",
              "  </tbody>\n",
              "</table>\n",
              "<p>6820 rows × 16 columns</p>\n",
              "</div>"
            ],
            "text/plain": [
              "        budget                                 company  ...  year year_corrected\n",
              "0      8000000           Columbia Pictures Corporation  ...  1986           1986\n",
              "1      6000000                      Paramount Pictures  ...  1986           1986\n",
              "2     15000000                      Paramount Pictures  ...  1986           1986\n",
              "3     18500000  Twentieth Century Fox Film Corporation  ...  1986           1986\n",
              "4      9000000                    Walt Disney Pictures  ...  1986           1986\n",
              "...        ...                                     ...  ...   ...            ...\n",
              "6815         0                Fox Searchlight Pictures  ...  2016           2016\n",
              "6816         0                Siempre Viva Productions  ...  2016           2016\n",
              "6817   3500000                  Warner Bros. Animation  ...  2016           2016\n",
              "6818         0                     Borderline Presents  ...  2016           2016\n",
              "6819         0               Les Productions du Trésor  ...  2016           2017\n",
              "\n",
              "[6820 rows x 16 columns]"
            ]
          },
          "metadata": {
            "tags": []
          },
          "execution_count": 54
        }
      ]
    },
    {
      "cell_type": "code",
      "metadata": {
        "colab": {
          "base_uri": "https://localhost:8080/",
          "height": 581
        },
        "id": "W8rkdptrW-Al",
        "outputId": "75f23775-46ed-41c3-87b2-299f1fae0b32"
      },
      "source": [
        "correlation_matrix = df_numerized.corr(method=\"pearson\")\n",
        "\n",
        "sns.heatmap(correlation_matrix, annot=True)\n",
        "\n",
        "plt.title('Correlation Matrix for Numeric Features')\n",
        "\n",
        "plt.xlabel('Movie Features')\n",
        "\n",
        "plt.ylabel('Movie Features')\n",
        "\n",
        "plt.show()"
      ],
      "execution_count": 57,
      "outputs": [
        {
          "output_type": "display_data",
          "data": {
            "image/png": "[encoded data removed]",
            "text/plain": [
              "<Figure size 864x576 with 2 Axes>"
            ]
          },
          "metadata": {
            "tags": [],
            "needs_background": "light"
          }
        }
      ]
    },
    {
      "cell_type": "markdown",
      "metadata": {
        "id": "Xq9Ya6oKXu_u"
      },
      "source": [
        "For easy understanding of Correlation, Unstack"
      ]
    },
    {
      "cell_type": "code",
      "metadata": {
        "colab": {
          "base_uri": "https://localhost:8080/"
        },
        "id": "P5mAmkC4XyeA",
        "outputId": "2ea07644-333b-4801-eb01-501c1be57f96"
      },
      "source": [
        "correlation_mat = df_numerized.corr()\n",
        "\n",
        "corr_pairs = correlation_mat.unstack()['gross'].sort_values()\n",
        "\n",
        "corr_pairs"
      ],
      "execution_count": 59,
      "outputs": [
        {
          "output_type": "execute_result",
          "data": {
            "text/plain": [
              "genre            -0.242676\n",
              "rating           -0.135538\n",
              "director         -0.011429\n",
              "writer           -0.009455\n",
              "star              0.008382\n",
              "name              0.022768\n",
              "country           0.149988\n",
              "score             0.165693\n",
              "year_corrected    0.176879\n",
              "released          0.178564\n",
              "company           0.187220\n",
              "year              0.191548\n",
              "runtime           0.224579\n",
              "votes             0.662457\n",
              "budget            0.712196\n",
              "gross             1.000000\n",
              "dtype: float64"
            ]
          },
          "metadata": {
            "tags": []
          },
          "execution_count": 59
        }
      ]
    }
  ]
}