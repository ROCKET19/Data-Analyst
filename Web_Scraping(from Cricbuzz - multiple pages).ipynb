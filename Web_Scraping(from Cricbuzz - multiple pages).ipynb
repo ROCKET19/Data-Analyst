{
  "nbformat": 4,
  "nbformat_minor": 0,
  "metadata": {
    "colab": {
      "name": "Web Scraping.ipynb",
      "provenance": [],
      "collapsed_sections": [
        "tc7AeROH7z22",
        "k9W5hwj4WwUM"
      ],
      "authorship_tag": "ABX9TyOL4DVHnqcdqeyl6LY6v6dD"
    },
    "kernelspec": {
      "name": "python3",
      "display_name": "Python 3"
    },
    "language_info": {
      "name": "python"
    }
  },
  "cells": [
    {
      "cell_type": "markdown",
      "metadata": {
        "id": "tc7AeROH7z22"
      },
      "source": [
        "#Importing the required Modules"
      ]
    },
    {
      "cell_type": "code",
      "metadata": {
        "id": "gglGGHlr7212"
      },
      "source": [
        "from bs4 import BeautifulSoup\n",
        "import requests\n",
        "import re\n",
        "from time import sleep\n",
        "from random import randint\n",
        "import pandas as pd\n",
        "from requests import get"
      ],
      "execution_count": 143,
      "outputs": []
    },
    {
      "cell_type": "markdown",
      "metadata": {
        "id": "k9W5hwj4WwUM"
      },
      "source": [
        "# IMDB top 250 data (Single Page Scraping)"
      ]
    },
    {
      "cell_type": "markdown",
      "metadata": {
        "id": "EFr2kj-mYC2h"
      },
      "source": [
        "##Scraping the movie name and rating using BeautifulSoup"
      ]
    },
    {
      "cell_type": "code",
      "metadata": {
        "id": "8JZYNjWr73iz"
      },
      "source": [
        "url = 'http://www.imdb.com/chart/top'\n",
        "response = requests.get(url)\n",
        "soup = BeautifulSoup(response.text, 'lxml')"
      ],
      "execution_count": 144,
      "outputs": []
    },
    {
      "cell_type": "code",
      "metadata": {
        "id": "AdFT09X99igi"
      },
      "source": [
        "movies = soup.select('td.titleColumn')\n",
        "ratings = [b.attrs.get('data-value') for b in soup.select('td.posterColumn span[name=ir]')]"
      ],
      "execution_count": 145,
      "outputs": []
    },
    {
      "cell_type": "markdown",
      "metadata": {
        "id": "FmhevaDEY2ab"
      },
      "source": [
        "##Extracting Name and Rating and adding it to lst (list)"
      ]
    },
    {
      "cell_type": "code",
      "metadata": {
        "id": "jg3kx6BK-li0"
      },
      "source": [
        "lst = []\n",
        "\n",
        "for index in range(0, len(movies)):\n",
        "\n",
        "\n",
        "    movie_string = movies[index].get_text()\n",
        "    movie = (' '.join(movie_string.split()).replace('.', ''))\n",
        "    movie_title = movie[len(str(index))+1:-7]     \n",
        "    data = {\"movie_title\": movie_title,\n",
        "            \"rating\": ratings[index],\n",
        "            }\n",
        "    lst.append(data)"
      ],
      "execution_count": 146,
      "outputs": []
    },
    {
      "cell_type": "markdown",
      "metadata": {
        "id": "fmptIwmeZD1x"
      },
      "source": [
        "##Adding the items into DataFrame"
      ]
    },
    {
      "cell_type": "code",
      "metadata": {
        "colab": {
          "base_uri": "https://localhost:8080/",
          "height": 417
        },
        "id": "xI2f4MNwXQJS",
        "outputId": "daed6ffe-d7fb-43c8-9a00-121b677ccdea"
      },
      "source": [
        "df = pd.DataFrame(columns=[\"Movie\", \"Rating\"])\n",
        "for movie in lst:\n",
        "  df_length = len(df)\n",
        "  df.loc[df_length] = movie['movie_title'], round(float(movie['rating']), 2)\n",
        "df"
      ],
      "execution_count": 147,
      "outputs": [
        {
          "output_type": "execute_result",
          "data": {
            "text/html": [
              "<div>\n",
              "<style scoped>\n",
              "    .dataframe tbody tr th:only-of-type {\n",
              "        vertical-align: middle;\n",
              "    }\n",
              "\n",
              "    .dataframe tbody tr th {\n",
              "        vertical-align: top;\n",
              "    }\n",
              "\n",
              "    .dataframe thead th {\n",
              "        text-align: right;\n",
              "    }\n",
              "</style>\n",
              "<table border=\"1\" class=\"dataframe\">\n",
              "  <thead>\n",
              "    <tr style=\"text-align: right;\">\n",
              "      <th></th>\n",
              "      <th>Movie</th>\n",
              "      <th>Rating</th>\n",
              "    </tr>\n",
              "  </thead>\n",
              "  <tbody>\n",
              "    <tr>\n",
              "      <th>0</th>\n",
              "      <td>The Shawshank Redemption</td>\n",
              "      <td>9.22</td>\n",
              "    </tr>\n",
              "    <tr>\n",
              "      <th>1</th>\n",
              "      <td>The Godfather</td>\n",
              "      <td>9.15</td>\n",
              "    </tr>\n",
              "    <tr>\n",
              "      <th>2</th>\n",
              "      <td>The Godfather: Part II</td>\n",
              "      <td>8.98</td>\n",
              "    </tr>\n",
              "    <tr>\n",
              "      <th>3</th>\n",
              "      <td>The Dark Knight</td>\n",
              "      <td>8.97</td>\n",
              "    </tr>\n",
              "    <tr>\n",
              "      <th>4</th>\n",
              "      <td>12 Angry Men</td>\n",
              "      <td>8.94</td>\n",
              "    </tr>\n",
              "    <tr>\n",
              "      <th>...</th>\n",
              "      <td>...</td>\n",
              "      <td>...</td>\n",
              "    </tr>\n",
              "    <tr>\n",
              "      <th>245</th>\n",
              "      <td>Three Colors: Red</td>\n",
              "      <td>8.02</td>\n",
              "    </tr>\n",
              "    <tr>\n",
              "      <th>246</th>\n",
              "      <td>Neon Genesis Evangelion: The End of Evangelion</td>\n",
              "      <td>8.02</td>\n",
              "    </tr>\n",
              "    <tr>\n",
              "      <th>247</th>\n",
              "      <td>Drishyam</td>\n",
              "      <td>8.02</td>\n",
              "    </tr>\n",
              "    <tr>\n",
              "      <th>248</th>\n",
              "      <td>Sunrise</td>\n",
              "      <td>8.02</td>\n",
              "    </tr>\n",
              "    <tr>\n",
              "      <th>249</th>\n",
              "      <td>Miracle in Cell No 7</td>\n",
              "      <td>8.02</td>\n",
              "    </tr>\n",
              "  </tbody>\n",
              "</table>\n",
              "<p>250 rows × 2 columns</p>\n",
              "</div>"
            ],
            "text/plain": [
              "                                              Movie  Rating\n",
              "0                          The Shawshank Redemption    9.22\n",
              "1                                     The Godfather    9.15\n",
              "2                            The Godfather: Part II    8.98\n",
              "3                                   The Dark Knight    8.97\n",
              "4                                      12 Angry Men    8.94\n",
              "..                                              ...     ...\n",
              "245                               Three Colors: Red    8.02\n",
              "246  Neon Genesis Evangelion: The End of Evangelion    8.02\n",
              "247                                        Drishyam    8.02\n",
              "248                                         Sunrise    8.02\n",
              "249                            Miracle in Cell No 7    8.02\n",
              "\n",
              "[250 rows x 2 columns]"
            ]
          },
          "metadata": {
            "tags": []
          },
          "execution_count": 147
        }
      ]
    },
    {
      "cell_type": "markdown",
      "metadata": {
        "id": "wJq2uVE1ZefQ"
      },
      "source": [
        "# Players and Ranking from Cricbuzz - Multiple Page Web Scraping"
      ]
    },
    {
      "cell_type": "code",
      "metadata": {
        "id": "BhCif-PIiYe8"
      },
      "source": [
        "url = ['https://www.cricbuzz.com/cricket-stats/icc-rankings/men/batting', 'https://www.cricbuzz.com/cricket-stats/icc-rankings/men/bowling', 'https://www.cricbuzz.com/cricket-stats/icc-rankings/men/all-rounder']\n",
        "response = requests.get(url[0])\n",
        "soup = BeautifulSoup(response.text, 'html.parser')\n",
        "\n"
      ],
      "execution_count": 148,
      "outputs": []
    },
    {
      "cell_type": "markdown",
      "metadata": {
        "id": "ZDgHDzPJBmAO"
      },
      "source": [
        "## Adding all the batsman into a list (Test, ODI, T20)"
      ]
    },
    {
      "cell_type": "code",
      "metadata": {
        "id": "SftFR2jflazF"
      },
      "source": [
        "batsman_containers = soup.find_all('div', class_ = 'cb-col cb-col-50 cb-lst-itm-sm text-left')"
      ],
      "execution_count": 149,
      "outputs": []
    },
    {
      "cell_type": "code",
      "metadata": {
        "colab": {
          "base_uri": "https://localhost:8080/",
          "height": 35
        },
        "id": "go7tz9B___Nt",
        "outputId": "1324a15e-6535-427b-a551-34ac35da9cb1"
      },
      "source": [
        "batsmens = []\n",
        "for batsman in batsman_containers:\n",
        "  batsmens.append(batsman.a.get_text())\n",
        "len(batsmens)\n",
        "batsmens[198]"
      ],
      "execution_count": 150,
      "outputs": [
        {
          "output_type": "execute_result",
          "data": {
            "application/vnd.google.colaboratory.intrinsic+json": {
              "type": "string"
            },
            "text/plain": [
              "'Dawid Malan'"
            ]
          },
          "metadata": {
            "tags": []
          },
          "execution_count": 150
        }
      ]
    },
    {
      "cell_type": "markdown",
      "metadata": {
        "id": "zmCxmp48B68_"
      },
      "source": [
        "Adding batsman to the DataFrame according to TEST, ODI and T20"
      ]
    },
    {
      "cell_type": "code",
      "metadata": {
        "colab": {
          "base_uri": "https://localhost:8080/"
        },
        "id": "V-3Hfog1CC-8",
        "outputId": "d62f7053-a148-4874-bf33-af0e91f046b5"
      },
      "source": [
        "df = pd.DataFrame(columns=['Test', 'ODI', 'T20'])\n",
        "\n",
        "# adding the batsman according to the ranking into seperate list for each format\n",
        "\n",
        "index = 0\n",
        "test_batsman = []\n",
        "odi_batsman = []\n",
        "t20_batsman = []\n",
        "while index < 98:\n",
        "  test_batsman.append(batsmens[index])\n",
        "  index += 1\n",
        "test_batsman.append(None) # Since there are only ranking of 98 batsmen in test, to adjust the same number of rows with odi and t20 to insert into pandas\n",
        "test_batsman.append(None)\n",
        "while index < 198:\n",
        "  odi_batsman.append(batsmens[index])\n",
        "  index += 1\n",
        "while index < 298:\n",
        "  t20_batsman.append(batsmens[index])\n",
        "  index += 1\n",
        "\n",
        "len(test_batsman)"
      ],
      "execution_count": 151,
      "outputs": [
        {
          "output_type": "execute_result",
          "data": {
            "text/plain": [
              "100"
            ]
          },
          "metadata": {
            "tags": []
          },
          "execution_count": 151
        }
      ]
    },
    {
      "cell_type": "code",
      "metadata": {
        "colab": {
          "base_uri": "https://localhost:8080/",
          "height": 357
        },
        "id": "1XF26kzwDUwp",
        "outputId": "26c768ca-6c7b-4494-9f5d-1341fe73a10a"
      },
      "source": [
        "# adding all the list to the dataframe\n",
        "\n",
        "Batsman = pd.DataFrame(list(zip(test_batsman, odi_batsman, t20_batsman)), columns=['Test', \"ODI\", 'T20'])\n",
        "Batsman.head(10)"
      ],
      "execution_count": 152,
      "outputs": [
        {
          "output_type": "execute_result",
          "data": {
            "text/html": [
              "<div>\n",
              "<style scoped>\n",
              "    .dataframe tbody tr th:only-of-type {\n",
              "        vertical-align: middle;\n",
              "    }\n",
              "\n",
              "    .dataframe tbody tr th {\n",
              "        vertical-align: top;\n",
              "    }\n",
              "\n",
              "    .dataframe thead th {\n",
              "        text-align: right;\n",
              "    }\n",
              "</style>\n",
              "<table border=\"1\" class=\"dataframe\">\n",
              "  <thead>\n",
              "    <tr style=\"text-align: right;\">\n",
              "      <th></th>\n",
              "      <th>Test</th>\n",
              "      <th>ODI</th>\n",
              "      <th>T20</th>\n",
              "    </tr>\n",
              "  </thead>\n",
              "  <tbody>\n",
              "    <tr>\n",
              "      <th>0</th>\n",
              "      <td>Steven Smith</td>\n",
              "      <td>Babar Azam</td>\n",
              "      <td>Dawid Malan</td>\n",
              "    </tr>\n",
              "    <tr>\n",
              "      <th>1</th>\n",
              "      <td>Kane Williamson</td>\n",
              "      <td>Virat Kohli</td>\n",
              "      <td>Aaron Finch</td>\n",
              "    </tr>\n",
              "    <tr>\n",
              "      <th>2</th>\n",
              "      <td>Marnus Labuschagne</td>\n",
              "      <td>Rohit Sharma</td>\n",
              "      <td>Babar Azam</td>\n",
              "    </tr>\n",
              "    <tr>\n",
              "      <th>3</th>\n",
              "      <td>Virat Kohli</td>\n",
              "      <td>Ross Taylor</td>\n",
              "      <td>Devon Conway</td>\n",
              "    </tr>\n",
              "    <tr>\n",
              "      <th>4</th>\n",
              "      <td>Joe Root</td>\n",
              "      <td>Aaron Finch</td>\n",
              "      <td>Virat Kohli</td>\n",
              "    </tr>\n",
              "    <tr>\n",
              "      <th>5</th>\n",
              "      <td>Rishabh Pant</td>\n",
              "      <td>Jonny Bairstow</td>\n",
              "      <td>Rassie van der Dussen</td>\n",
              "    </tr>\n",
              "    <tr>\n",
              "      <th>6</th>\n",
              "      <td>Rohit Sharma</td>\n",
              "      <td>Fakhar Zaman</td>\n",
              "      <td>KL Rahul</td>\n",
              "    </tr>\n",
              "    <tr>\n",
              "      <th>7</th>\n",
              "      <td>Henry Nicholls</td>\n",
              "      <td>Faf du Plessis</td>\n",
              "      <td>Glenn Maxwell</td>\n",
              "    </tr>\n",
              "    <tr>\n",
              "      <th>8</th>\n",
              "      <td>David Warner</td>\n",
              "      <td>David Warner</td>\n",
              "      <td>Martin Guptill</td>\n",
              "    </tr>\n",
              "    <tr>\n",
              "      <th>9</th>\n",
              "      <td>Quinton de Kock</td>\n",
              "      <td>Shai Hope</td>\n",
              "      <td>Mohammad Rizwan</td>\n",
              "    </tr>\n",
              "  </tbody>\n",
              "</table>\n",
              "</div>"
            ],
            "text/plain": [
              "                 Test             ODI                    T20\n",
              "0        Steven Smith      Babar Azam            Dawid Malan\n",
              "1     Kane Williamson     Virat Kohli            Aaron Finch\n",
              "2  Marnus Labuschagne    Rohit Sharma             Babar Azam\n",
              "3         Virat Kohli     Ross Taylor           Devon Conway\n",
              "4            Joe Root     Aaron Finch            Virat Kohli\n",
              "5        Rishabh Pant  Jonny Bairstow  Rassie van der Dussen\n",
              "6        Rohit Sharma    Fakhar Zaman               KL Rahul\n",
              "7      Henry Nicholls  Faf du Plessis          Glenn Maxwell\n",
              "8        David Warner    David Warner         Martin Guptill\n",
              "9     Quinton de Kock       Shai Hope        Mohammad Rizwan"
            ]
          },
          "metadata": {
            "tags": []
          },
          "execution_count": 152
        }
      ]
    },
    {
      "cell_type": "markdown",
      "metadata": {
        "id": "-4WJjN-FF3m8"
      },
      "source": [
        "## Adding the Bowlers and All-rounders (together) [from multiple page]"
      ]
    },
    {
      "cell_type": "code",
      "metadata": {
        "id": "ixDa3xTnF7h-"
      },
      "source": [
        "# Bowlers\n",
        "\n",
        "response1 = requests.get(url[1])\n",
        "soup1 = BeautifulSoup(response1.text, 'html.parser')\n",
        "\n",
        "# All-rounders\n",
        "\n",
        "response2 = requests.get(url[2])\n",
        "soup2 = BeautifulSoup(response2.text, 'html.parser')"
      ],
      "execution_count": 153,
      "outputs": []
    },
    {
      "cell_type": "code",
      "metadata": {
        "colab": {
          "base_uri": "https://localhost:8080/"
        },
        "id": "negbC1hmGMnP",
        "outputId": "6de50340-1810-4b1d-a024-318e060b4efc"
      },
      "source": [
        "bowler_containers = soup1.find_all('div', class_ = 'cb-col cb-col-67 cb-rank-plyr')\n",
        "all_rounder_containers = soup2.find_all('div', class_ = 'cb-col cb-col-50 cb-lst-itm-sm text-left')\n",
        "\n",
        "bowlers = []\n",
        "all_rounders = []\n",
        "for bowler in bowler_containers:\n",
        "  bowlers.append(bowler.a.get_text())\n",
        "\n",
        "\n",
        "for all_rounder in all_rounder_containers:\n",
        "  all_rounders.append(all_rounder.a.get_text())\n",
        "\n",
        "len(all_rounders)     # there are only 10 all rounders each in each format"
      ],
      "execution_count": 156,
      "outputs": [
        {
          "output_type": "execute_result",
          "data": {
            "text/plain": [
              "30"
            ]
          },
          "metadata": {
            "tags": []
          },
          "execution_count": 156
        }
      ]
    },
    {
      "cell_type": "markdown",
      "metadata": {
        "id": "xCFQXdheJ-7s"
      },
      "source": [
        "Adding Bowlers and All rounders each according to the format into Pandas"
      ]
    },
    {
      "cell_type": "markdown",
      "metadata": {
        "id": "Awt1b0k9P_7u"
      },
      "source": [
        "For Bowlers"
      ]
    },
    {
      "cell_type": "code",
      "metadata": {
        "colab": {
          "base_uri": "https://localhost:8080/"
        },
        "id": "qjV3OdQ-KD5w",
        "outputId": "ce64ab34-7ea5-426f-dd17-136095c23f5f"
      },
      "source": [
        "df = pd.DataFrame(columns=['Test', 'ODI', 'T20'])\n",
        "\n",
        "# adding the batsman according to the ranking into seperate list for each format\n",
        "\n",
        "index = 0\n",
        "test_bowler = []\n",
        "odi_bowler = []\n",
        "t20_bowler = []\n",
        "while index < 99:\n",
        "  test_bowler.append(bowlers[index])\n",
        "  index += 1\n",
        "test_bowler.append(None) # Since there are only ranking of 98 batsmen in test, to adjust the same number of rows with odi and t20 to insert into pandas\n",
        "\n",
        "while index < 199:\n",
        "  odi_bowler.append(bowlers[index])\n",
        "  index += 1\n",
        "while index < 299:\n",
        "  t20_bowler.append(bowlers[index])\n",
        "  index += 1\n",
        "\n",
        "len(test_bowler)"
      ],
      "execution_count": 161,
      "outputs": [
        {
          "output_type": "execute_result",
          "data": {
            "text/plain": [
              "100"
            ]
          },
          "metadata": {
            "tags": []
          },
          "execution_count": 161
        }
      ]
    },
    {
      "cell_type": "code",
      "metadata": {
        "colab": {
          "base_uri": "https://localhost:8080/",
          "height": 357
        },
        "id": "lFqMbbzWQdxT",
        "outputId": "0a98fe10-e989-46b9-9238-3a5399733f44"
      },
      "source": [
        "# adding all the list to the dataframe\n",
        "\n",
        "Bowler = pd.DataFrame(list(zip(test_bowler, odi_bowler, t20_bowler)), columns=['Test', \"ODI\", 'T20'])\n",
        "Bowler.head(10)"
      ],
      "execution_count": 162,
      "outputs": [
        {
          "output_type": "execute_result",
          "data": {
            "text/html": [
              "<div>\n",
              "<style scoped>\n",
              "    .dataframe tbody tr th:only-of-type {\n",
              "        vertical-align: middle;\n",
              "    }\n",
              "\n",
              "    .dataframe tbody tr th {\n",
              "        vertical-align: top;\n",
              "    }\n",
              "\n",
              "    .dataframe thead th {\n",
              "        text-align: right;\n",
              "    }\n",
              "</style>\n",
              "<table border=\"1\" class=\"dataframe\">\n",
              "  <thead>\n",
              "    <tr style=\"text-align: right;\">\n",
              "      <th></th>\n",
              "      <th>Test</th>\n",
              "      <th>ODI</th>\n",
              "      <th>T20</th>\n",
              "    </tr>\n",
              "  </thead>\n",
              "  <tbody>\n",
              "    <tr>\n",
              "      <th>0</th>\n",
              "      <td>Pat Cummins</td>\n",
              "      <td>Trent Boult</td>\n",
              "      <td>Tabraiz Shamsi</td>\n",
              "    </tr>\n",
              "    <tr>\n",
              "      <th>1</th>\n",
              "      <td>Ravichandran Ashwin</td>\n",
              "      <td>Mehidy Hasan</td>\n",
              "      <td>Rashid Khan</td>\n",
              "    </tr>\n",
              "    <tr>\n",
              "      <th>2</th>\n",
              "      <td>Tim Southee</td>\n",
              "      <td>Mujeeb Ur Rahman</td>\n",
              "      <td>Ashton Agar</td>\n",
              "    </tr>\n",
              "    <tr>\n",
              "      <th>3</th>\n",
              "      <td>Josh Hazlewood</td>\n",
              "      <td>Matt Henry</td>\n",
              "      <td>Adil Rashid</td>\n",
              "    </tr>\n",
              "    <tr>\n",
              "      <th>4</th>\n",
              "      <td>Neil Wagner</td>\n",
              "      <td>Jasprit Bumrah</td>\n",
              "      <td>Mujeeb Ur Rahman</td>\n",
              "    </tr>\n",
              "    <tr>\n",
              "      <th>5</th>\n",
              "      <td>Kagiso Rabada</td>\n",
              "      <td>Kagiso Rabada</td>\n",
              "      <td>Tim Southee</td>\n",
              "    </tr>\n",
              "    <tr>\n",
              "      <th>6</th>\n",
              "      <td>Stuart Broad</td>\n",
              "      <td>Chris Woakes</td>\n",
              "      <td>Adam Zampa</td>\n",
              "    </tr>\n",
              "    <tr>\n",
              "      <th>7</th>\n",
              "      <td>James Anderson</td>\n",
              "      <td>Josh Hazlewood</td>\n",
              "      <td>Ish Sodhi</td>\n",
              "    </tr>\n",
              "    <tr>\n",
              "      <th>8</th>\n",
              "      <td>Mitchell Starc</td>\n",
              "      <td>Pat Cummins</td>\n",
              "      <td>Lakshan Sandakan</td>\n",
              "    </tr>\n",
              "    <tr>\n",
              "      <th>9</th>\n",
              "      <td>Jason Holder</td>\n",
              "      <td>Mustafizur Rahman</td>\n",
              "      <td>Wanindu Hasaranga</td>\n",
              "    </tr>\n",
              "  </tbody>\n",
              "</table>\n",
              "</div>"
            ],
            "text/plain": [
              "                  Test                ODI                T20\n",
              "0          Pat Cummins        Trent Boult     Tabraiz Shamsi\n",
              "1  Ravichandran Ashwin       Mehidy Hasan        Rashid Khan\n",
              "2          Tim Southee   Mujeeb Ur Rahman        Ashton Agar\n",
              "3       Josh Hazlewood         Matt Henry        Adil Rashid\n",
              "4          Neil Wagner     Jasprit Bumrah   Mujeeb Ur Rahman\n",
              "5        Kagiso Rabada      Kagiso Rabada        Tim Southee\n",
              "6         Stuart Broad       Chris Woakes         Adam Zampa\n",
              "7       James Anderson     Josh Hazlewood          Ish Sodhi\n",
              "8       Mitchell Starc        Pat Cummins   Lakshan Sandakan\n",
              "9         Jason Holder  Mustafizur Rahman  Wanindu Hasaranga"
            ]
          },
          "metadata": {
            "tags": []
          },
          "execution_count": 162
        }
      ]
    },
    {
      "cell_type": "markdown",
      "metadata": {
        "id": "APxF3I9rQ7ma"
      },
      "source": [
        "For All-rounders"
      ]
    },
    {
      "cell_type": "code",
      "metadata": {
        "colab": {
          "base_uri": "https://localhost:8080/"
        },
        "id": "p5ikalbuQ9QK",
        "outputId": "cda55190-5f71-4491-fca7-4d256c13ebf1"
      },
      "source": [
        "df = pd.DataFrame(columns=['Test', 'ODI', 'T20'])\n",
        "\n",
        "# adding the batsman according to the ranking into seperate list for each format\n",
        "\n",
        "index = 0\n",
        "test_all_rounder = []\n",
        "odi_all_rounder = []\n",
        "t20_all_rounder = []\n",
        "while index < 10:\n",
        "  test_all_rounder.append(all_rounders[index])\n",
        "  index += 1\n",
        "# test_bowler.append(None) # Since there are only ranking of 98 batsmen in test, to adjust the same number of rows with odi and t20 to insert into pandas\n",
        "\n",
        "while index < 20:\n",
        "  odi_all_rounder.append(all_rounders[index])\n",
        "  index += 1\n",
        "while index < 30:\n",
        "  t20_all_rounder.append(all_rounders[index])\n",
        "  index += 1\n",
        "\n",
        "len(test_all_rounder)"
      ],
      "execution_count": 163,
      "outputs": [
        {
          "output_type": "execute_result",
          "data": {
            "text/plain": [
              "10"
            ]
          },
          "metadata": {
            "tags": []
          },
          "execution_count": 163
        }
      ]
    },
    {
      "cell_type": "code",
      "metadata": {
        "colab": {
          "base_uri": "https://localhost:8080/",
          "height": 357
        },
        "id": "AvJUrYYLRSYY",
        "outputId": "6d10fe1e-01fb-4553-f481-4d41b357a497"
      },
      "source": [
        "# adding all the list to the dataframe\n",
        "\n",
        "All_Rounder = pd.DataFrame(list(zip(test_all_rounder, odi_all_rounder, t20_all_rounder)), columns=['Test', \"ODI\", 'T20'])\n",
        "All_Rounder.head(10)"
      ],
      "execution_count": 164,
      "outputs": [
        {
          "output_type": "execute_result",
          "data": {
            "text/html": [
              "<div>\n",
              "<style scoped>\n",
              "    .dataframe tbody tr th:only-of-type {\n",
              "        vertical-align: middle;\n",
              "    }\n",
              "\n",
              "    .dataframe tbody tr th {\n",
              "        vertical-align: top;\n",
              "    }\n",
              "\n",
              "    .dataframe thead th {\n",
              "        text-align: right;\n",
              "    }\n",
              "</style>\n",
              "<table border=\"1\" class=\"dataframe\">\n",
              "  <thead>\n",
              "    <tr style=\"text-align: right;\">\n",
              "      <th></th>\n",
              "      <th>Test</th>\n",
              "      <th>ODI</th>\n",
              "      <th>T20</th>\n",
              "    </tr>\n",
              "  </thead>\n",
              "  <tbody>\n",
              "    <tr>\n",
              "      <th>0</th>\n",
              "      <td>Ravindra Jadeja</td>\n",
              "      <td>Shakib Al Hasan</td>\n",
              "      <td>Mohammad Nabi</td>\n",
              "    </tr>\n",
              "    <tr>\n",
              "      <th>1</th>\n",
              "      <td>Jason Holder</td>\n",
              "      <td>Ben Stokes</td>\n",
              "      <td>Shakib Al Hasan</td>\n",
              "    </tr>\n",
              "    <tr>\n",
              "      <th>2</th>\n",
              "      <td>Ben Stokes</td>\n",
              "      <td>Mohammad Nabi</td>\n",
              "      <td>Glenn Maxwell</td>\n",
              "    </tr>\n",
              "    <tr>\n",
              "      <th>3</th>\n",
              "      <td>Ravichandran Ashwin</td>\n",
              "      <td>Chris Woakes</td>\n",
              "      <td>Richie Berrington</td>\n",
              "    </tr>\n",
              "    <tr>\n",
              "      <th>4</th>\n",
              "      <td>Shakib Al Hasan</td>\n",
              "      <td>Rashid Khan</td>\n",
              "      <td>Gareth Delany</td>\n",
              "    </tr>\n",
              "    <tr>\n",
              "      <th>5</th>\n",
              "      <td>Kyle Jamieson</td>\n",
              "      <td>Mitchell Santner</td>\n",
              "      <td>Khawar Ali</td>\n",
              "    </tr>\n",
              "    <tr>\n",
              "      <th>6</th>\n",
              "      <td>Mitchell Starc</td>\n",
              "      <td>Imad Wasim</td>\n",
              "      <td>Sean Williams</td>\n",
              "    </tr>\n",
              "    <tr>\n",
              "      <th>7</th>\n",
              "      <td>Pat Cummins</td>\n",
              "      <td>Colin de Grandhomme</td>\n",
              "      <td>Collins Obuya</td>\n",
              "    </tr>\n",
              "    <tr>\n",
              "      <th>8</th>\n",
              "      <td>Colin de Grandhomme</td>\n",
              "      <td>Ravindra Jadeja</td>\n",
              "      <td>Rohan Mustafa</td>\n",
              "    </tr>\n",
              "    <tr>\n",
              "      <th>9</th>\n",
              "      <td>Chris Woakes</td>\n",
              "      <td>Sean Williams</td>\n",
              "      <td>Zeeshan Maqsood</td>\n",
              "    </tr>\n",
              "  </tbody>\n",
              "</table>\n",
              "</div>"
            ],
            "text/plain": [
              "                  Test                  ODI                T20\n",
              "0      Ravindra Jadeja      Shakib Al Hasan      Mohammad Nabi\n",
              "1         Jason Holder           Ben Stokes    Shakib Al Hasan\n",
              "2           Ben Stokes        Mohammad Nabi      Glenn Maxwell\n",
              "3  Ravichandran Ashwin         Chris Woakes  Richie Berrington\n",
              "4      Shakib Al Hasan          Rashid Khan      Gareth Delany\n",
              "5        Kyle Jamieson     Mitchell Santner         Khawar Ali\n",
              "6       Mitchell Starc           Imad Wasim      Sean Williams\n",
              "7          Pat Cummins  Colin de Grandhomme      Collins Obuya\n",
              "8  Colin de Grandhomme      Ravindra Jadeja      Rohan Mustafa\n",
              "9         Chris Woakes        Sean Williams    Zeeshan Maqsood"
            ]
          },
          "metadata": {
            "tags": []
          },
          "execution_count": 164
        }
      ]
    }
  ]
}