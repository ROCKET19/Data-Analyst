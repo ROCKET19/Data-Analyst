{
  "nbformat": 4,
  "nbformat_minor": 0,
  "metadata": {
    "colab": {
      "name": "Web Scraping from IMDB.ipynb",
      "provenance": [],
      "collapsed_sections": [
        "tc7AeROH7z22",
        "k9W5hwj4WwUM"
      ],
      "authorship_tag": "ABX9TyOOuVh1IhAVlcNh9buX6Bbu"
    },
    "kernelspec": {
      "name": "python3",
      "display_name": "Python 3"
    },
    "language_info": {
      "name": "python"
    }
  },
  "cells": [
    {
      "cell_type": "markdown",
      "metadata": {
        "id": "tc7AeROH7z22"
      },
      "source": [
        "#Importing the required Modules"
      ]
    },
    {
      "cell_type": "code",
      "metadata": {
        "id": "gglGGHlr7212"
      },
      "source": [
        "from bs4 import BeautifulSoup\n",
        "import requests\n",
        "import re\n",
        "from time import sleep\n",
        "from random import randint\n",
        "import pandas as pd"
      ],
      "execution_count": 193,
      "outputs": []
    },
    {
      "cell_type": "markdown",
      "metadata": {
        "id": "k9W5hwj4WwUM"
      },
      "source": [
        "# IMDB top 250 data (Single Page Scraping)"
      ]
    },
    {
      "cell_type": "markdown",
      "metadata": {
        "id": "EFr2kj-mYC2h"
      },
      "source": [
        "##Scraping the movie name and rating using BeautifulSoup"
      ]
    },
    {
      "cell_type": "code",
      "metadata": {
        "id": "8JZYNjWr73iz"
      },
      "source": [
        "url = 'http://www.imdb.com/chart/top'\n",
        "response = requests.get(url)\n",
        "soup = BeautifulSoup(response.text, 'lxml')"
      ],
      "execution_count": 194,
      "outputs": []
    },
    {
      "cell_type": "code",
      "metadata": {
        "id": "AdFT09X99igi"
      },
      "source": [
        "movies = soup.select('td.titleColumn')\n",
        "ratings = [b.attrs.get('data-value') for b in soup.select('td.posterColumn span[name=ir]')]"
      ],
      "execution_count": 195,
      "outputs": []
    },
    {
      "cell_type": "markdown",
      "metadata": {
        "id": "FmhevaDEY2ab"
      },
      "source": [
        "##Extracting Name and Rating and adding it to lst (list)"
      ]
    },
    {
      "cell_type": "code",
      "metadata": {
        "id": "jg3kx6BK-li0"
      },
      "source": [
        "lst = []\n",
        "\n",
        "for index in range(0, len(movies)):\n",
        "\n",
        "\n",
        "    movie_string = movies[index].get_text()\n",
        "    movie = (' '.join(movie_string.split()).replace('.', ''))\n",
        "    movie_title = movie[len(str(index))+1:-7]     \n",
        "    data = {\"movie_title\": movie_title,\n",
        "            \"rating\": ratings[index],\n",
        "            }\n",
        "    lst.append(data)"
      ],
      "execution_count": 196,
      "outputs": []
    },
    {
      "cell_type": "markdown",
      "metadata": {
        "id": "fmptIwmeZD1x"
      },
      "source": [
        "##Adding the items into DataFrame"
      ]
    },
    {
      "cell_type": "code",
      "metadata": {
        "colab": {
          "base_uri": "https://localhost:8080/",
          "height": 417
        },
        "id": "xI2f4MNwXQJS",
        "outputId": "a627c43e-46bb-40b4-cdb4-9acd16c0a1aa"
      },
      "source": [
        "df = pd.DataFrame(columns=[\"Movie\", \"Rating\"])\n",
        "for movie in lst:\n",
        "  df_length = len(df)\n",
        "  df.loc[df_length] = movie['movie_title'], round(float(movie['rating']), 2)\n",
        "df"
      ],
      "execution_count": 197,
      "outputs": [
        {
          "output_type": "execute_result",
          "data": {
            "text/html": [
              "<div>\n",
              "<style scoped>\n",
              "    .dataframe tbody tr th:only-of-type {\n",
              "        vertical-align: middle;\n",
              "    }\n",
              "\n",
              "    .dataframe tbody tr th {\n",
              "        vertical-align: top;\n",
              "    }\n",
              "\n",
              "    .dataframe thead th {\n",
              "        text-align: right;\n",
              "    }\n",
              "</style>\n",
              "<table border=\"1\" class=\"dataframe\">\n",
              "  <thead>\n",
              "    <tr style=\"text-align: right;\">\n",
              "      <th></th>\n",
              "      <th>Movie</th>\n",
              "      <th>Rating</th>\n",
              "    </tr>\n",
              "  </thead>\n",
              "  <tbody>\n",
              "    <tr>\n",
              "      <th>0</th>\n",
              "      <td>The Shawshank Redemption</td>\n",
              "      <td>9.22</td>\n",
              "    </tr>\n",
              "    <tr>\n",
              "      <th>1</th>\n",
              "      <td>The Godfather</td>\n",
              "      <td>9.15</td>\n",
              "    </tr>\n",
              "    <tr>\n",
              "      <th>2</th>\n",
              "      <td>The Godfather: Part II</td>\n",
              "      <td>8.98</td>\n",
              "    </tr>\n",
              "    <tr>\n",
              "      <th>3</th>\n",
              "      <td>The Dark Knight</td>\n",
              "      <td>8.97</td>\n",
              "    </tr>\n",
              "    <tr>\n",
              "      <th>4</th>\n",
              "      <td>12 Angry Men</td>\n",
              "      <td>8.94</td>\n",
              "    </tr>\n",
              "    <tr>\n",
              "      <th>...</th>\n",
              "      <td>...</td>\n",
              "      <td>...</td>\n",
              "    </tr>\n",
              "    <tr>\n",
              "      <th>245</th>\n",
              "      <td>Three Colors: Red</td>\n",
              "      <td>8.02</td>\n",
              "    </tr>\n",
              "    <tr>\n",
              "      <th>246</th>\n",
              "      <td>Drishyam</td>\n",
              "      <td>8.02</td>\n",
              "    </tr>\n",
              "    <tr>\n",
              "      <th>247</th>\n",
              "      <td>Neon Genesis Evangelion: The End of Evangelion</td>\n",
              "      <td>8.02</td>\n",
              "    </tr>\n",
              "    <tr>\n",
              "      <th>248</th>\n",
              "      <td>Sunrise</td>\n",
              "      <td>8.02</td>\n",
              "    </tr>\n",
              "    <tr>\n",
              "      <th>249</th>\n",
              "      <td>Miracle in Cell No 7</td>\n",
              "      <td>8.02</td>\n",
              "    </tr>\n",
              "  </tbody>\n",
              "</table>\n",
              "<p>250 rows × 2 columns</p>\n",
              "</div>"
            ],
            "text/plain": [
              "                                              Movie  Rating\n",
              "0                          The Shawshank Redemption    9.22\n",
              "1                                     The Godfather    9.15\n",
              "2                            The Godfather: Part II    8.98\n",
              "3                                   The Dark Knight    8.97\n",
              "4                                      12 Angry Men    8.94\n",
              "..                                              ...     ...\n",
              "245                               Three Colors: Red    8.02\n",
              "246                                        Drishyam    8.02\n",
              "247  Neon Genesis Evangelion: The End of Evangelion    8.02\n",
              "248                                         Sunrise    8.02\n",
              "249                            Miracle in Cell No 7    8.02\n",
              "\n",
              "[250 rows x 2 columns]"
            ]
          },
          "metadata": {
            "tags": []
          },
          "execution_count": 197
        }
      ]
    },
    {
      "cell_type": "markdown",
      "metadata": {
        "id": "wJq2uVE1ZefQ"
      },
      "source": [
        "# Multiple Page Web Scraping"
      ]
    },
    {
      "cell_type": "code",
      "metadata": {
        "id": "ap3JVGRHZhJB"
      },
      "source": [
        ""
      ],
      "execution_count": 197,
      "outputs": []
    }
  ]
}