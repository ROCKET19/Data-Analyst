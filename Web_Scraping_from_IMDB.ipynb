{
  "nbformat": 4,
  "nbformat_minor": 0,
  "metadata": {
    "colab": {
      "name": "Web Scraping from IMDB.ipynb",
      "provenance": [],
      "collapsed_sections": [
        "tc7AeROH7z22",
        "k9W5hwj4WwUM"
      ],
      "authorship_tag": "ABX9TyOOuVh1IhAVlcNh9buX6Bbu"
    },
    "kernelspec": {
      "name": "python3",
      "display_name": "Python 3"
    },
    "language_info": {
      "name": "python"
    }
  },
  "cells": [
    {
      "cell_type": "markdown",
      "metadata": {
        "id": "tc7AeROH7z22"
      },
      "source": [
        "#Importing the required Modules"
      ]
    },
    {
      "cell_type": "code",
      "metadata": {
        "id": "gglGGHlr7212"
      },
      "source": [
        "from bs4 import BeautifulSoup\n",
        "import requests\n",
        "import re\n",
        "from time import sleep\n",
        "from random import randint\n",
        "import pandas as pd"
      ],
      "execution_count": 168,
      "outputs": []
    },
    {
      "cell_type": "markdown",
      "metadata": {
        "id": "k9W5hwj4WwUM"
      },
      "source": [
        "# IMDB top 250 data (Single Page Scraping)"
      ]
    },
    {
      "cell_type": "markdown",
      "metadata": {
        "id": "EFr2kj-mYC2h"
      },
      "source": [
        "##Scraping the movie name and rating using BeautifulSoup"
      ]
    },
    {
      "cell_type": "code",
      "metadata": {
        "id": "8JZYNjWr73iz"
      },
      "source": [
        "url = 'http://www.imdb.com/chart/top'\n",
        "response = requests.get(url)\n",
        "soup = BeautifulSoup(response.text, 'lxml')"
      ],
      "execution_count": 147,
      "outputs": []
    },
    {
      "cell_type": "code",
      "metadata": {
        "id": "AdFT09X99igi"
      },
      "source": [
        "movies = soup.select('td.titleColumn')\n",
        "ratings = [b.attrs.get('data-value') for b in soup.select('td.posterColumn span[name=ir]')]"
      ],
      "execution_count": 181,
      "outputs": []
    },
    {
      "cell_type": "markdown",
      "metadata": {
        "id": "FmhevaDEY2ab"
      },
      "source": [
        "##Extracting Name and Rating and adding it to lst (list)"
      ]
    },
    {
      "cell_type": "code",
      "metadata": {
        "id": "jg3kx6BK-li0"
      },
      "source": [
        "lst = []\n",
        "\n",
        "for index in range(0, len(movies)):\n",
        "\n",
        "\n",
        "    movie_string = movies[index].get_text()\n",
        "    movie = (' '.join(movie_string.split()).replace('.', ''))\n",
        "    movie_title = movie[len(str(index))+1:-7]     \n",
        "    data = {\"movie_title\": movie_title,\n",
        "            \"rating\": ratings[index],\n",
        "            }\n",
        "    lst.append(data)"
      ],
      "execution_count": 182,
      "outputs": []
    },
    {
      "cell_type": "markdown",
      "metadata": {
        "id": "fmptIwmeZD1x"
      },
      "source": [
        "##Adding the items into DataFrame"
      ]
    },
    {
      "cell_type": "code",
      "metadata": {
        "id": "xI2f4MNwXQJS"
      },
      "source": [
        "df = pd.DataFrame(columns=[\"Movie\", \"Rating\"])\n",
        "for movie in lst:\n",
        "  df_length = len(df)\n",
        "  df.loc[df_length] = movie['movie_title'], round(float(movie['rating']), 2)\n",
        "df"
      ],
      "execution_count": null,
      "outputs": []
    },
    {
      "cell_type": "markdown",
      "metadata": {
        "id": "wJq2uVE1ZefQ"
      },
      "source": [
        "# Multiple Page Web Scraping"
      ]
    },
    {
      "cell_type": "code",
      "metadata": {
        "id": "ap3JVGRHZhJB"
      },
      "source": [
        ""
      ],
      "execution_count": null,
      "outputs": []
    }
  ]
}